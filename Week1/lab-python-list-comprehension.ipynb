{
 "cells": [
  {
   "cell_type": "markdown",
   "id": "25d7736c-ba17-4aff-b6bb-66eba20fbf4e",
   "metadata": {},
   "source": [
    "# Lab | List, Dict and Set Comprehension"
   ]
  },
  {
   "cell_type": "markdown",
   "id": "7dd3cbde-675a-4b81-92c3-f728846dbe06",
   "metadata": {},
   "source": [
    "## Exercise: Managing Customer Orders Optimized with Comprehension"
   ]
  },
  {
   "cell_type": "markdown",
   "id": "5d500160-2fb7-4777-b5e4-09d45ebaf328",
   "metadata": {},
   "source": [
    "In the previous exercise, you developed a program to manage customer orders and inventory. Now, let's take it a step further and incorporate comprehension into your code.\n",
    "\n",
    "Follow the steps below to complete the exercise:\n",
    "\n",
    "1. Review your code from the previous exercise and identify areas where you can apply comprehension to simplify and streamline your code. \n",
    "\n",
    "    - *Hint: Apply it to initialize inventory, updating the inventory and printing the updated inventory.*\n",
    "    \n",
    "    - For example, in initializing the inventory, we could have:\n",
    "    \n",
    "        ```python\n",
    "        def initialize_inventory(products):\n",
    "            inventory = {product: int(input(f\"Enter the quantity of {product}s available: \")) for product in products}\n",
    "            return inventory\n",
    "\n",
    "        ```\n",
    "<br>\n",
    "    \n",
    "    \n",
    "2. Modify the function get_customer_orders so it prompts the user to enter the number of customer orders and gathers the product names using a loop and user input. Use comprehension.\n",
    "\n",
    "3. Add a new function to calculate the total price of the customer order. For each product in customer_orders, prompt the user to enter the price of that product. Use comprehension to calculate the total price. Note: assume that the user can only have 1 unit of each product.\n",
    "\n",
    "4. Modify the update_inventory function to remove the product from the inventory if its quantity becomes zero after fulfilling the customer orders. Use comprehension to filter out the products with a quantity of zero from the inventory.\n",
    "\n",
    "5. Print the total price of the customer order.\n",
    "\n",
    "Your code should produce output similar to the following:\n",
    "\n",
    "```python\n",
    "Enter the quantity of t-shirts available:  5\n",
    "Enter the quantity of mugs available:  4\n",
    "Enter the quantity of hats available:  3\n",
    "Enter the quantity of books available:  2\n",
    "Enter the quantity of keychains available:  1\n",
    "Enter the number of customer orders:  2\n",
    "Enter the name of a product that a customer wants to order:  hat\n",
    "Enter the name of a product that a customer wants to order:  keychain\n",
    "\n",
    "Order Statistics:\n",
    "Total Products Ordered: 2\n",
    "Percentage of Unique Products Ordered: 40.0\n",
    "\n",
    "Updated Inventory:\n",
    "t-shirt: 5\n",
    "mug: 4\n",
    "hat: 2\n",
    "book: 2\n",
    "Enter the price of keychain:  5\n",
    "Enter the price of hat:  10\n",
    "Total Price: 15.0\n",
    "\n",
    "```\n"
   ]
  },
  {
   "cell_type": "code",
   "execution_count": 8,
   "id": "3735e3f8",
   "metadata": {},
   "outputs": [],
   "source": [
    "# 1. Review your code from the previous exercise and identify areas where you can apply comprehension to simplify \n",
    "# and streamline your code."
   ]
  },
  {
   "cell_type": "code",
   "execution_count": 4,
   "id": "36434dfe",
   "metadata": {},
   "outputs": [],
   "source": [
    "products = [\"t-shirt\", \"mug\", \"hat\", \"book\", \"keychain\"]"
   ]
  },
  {
   "cell_type": "code",
   "execution_count": 5,
   "id": "c84a5473",
   "metadata": {},
   "outputs": [],
   "source": [
    "def initialize_inventory(products):\n",
    "    inventory = {product: int(input(f\"Enter the quantity of {product} available: \")) for product in products}\n",
    "    return inventory"
   ]
  },
  {
   "cell_type": "code",
   "execution_count": 6,
   "id": "e0d63435",
   "metadata": {},
   "outputs": [],
   "source": [
    "# 2. Modify the function get_customer_orders so it prompts the user to enter the number of \n",
    "# customer orders and gathers the product names using a loop and user input. Use comprehension.\n",
    "\n",
    "def get_customer_orders():\n",
    "    customer_orders = int(input(f\"\\nEnter the number of customer orders: \"))\n",
    "    prod_name = [input(\"Enter the name of a product that a customer wants to order: \") for name in range(customer_orders)]\n",
    "    return prod_name"
   ]
  },
  {
   "cell_type": "code",
   "execution_count": 7,
   "id": "fb33f9c3",
   "metadata": {
    "scrolled": true
   },
   "outputs": [],
   "source": [
    "#prod_name1 = get_customer_orders()"
   ]
  },
  {
   "cell_type": "code",
   "execution_count": 8,
   "id": "0ceb8988",
   "metadata": {
    "scrolled": true
   },
   "outputs": [
    {
     "ename": "NameError",
     "evalue": "name 'customer_orders' is not defined",
     "output_type": "error",
     "traceback": [
      "\u001b[1;31m---------------------------------------------------------------------------\u001b[0m",
      "\u001b[1;31mNameError\u001b[0m                                 Traceback (most recent call last)",
      "Cell \u001b[1;32mIn[8], line 1\u001b[0m\n\u001b[1;32m----> 1\u001b[0m customer_orders\n",
      "\u001b[1;31mNameError\u001b[0m: name 'customer_orders' is not defined"
     ]
    }
   ],
   "source": [
    "customer_orders"
   ]
  },
  {
   "cell_type": "code",
   "execution_count": 9,
   "id": "4e4db7e2",
   "metadata": {},
   "outputs": [],
   "source": [
    "# 3. Add a new function to calculate the total price of the customer order. For each product in \n",
    "# customer_orders, prompt the user to enter the price of that product. Use comprehension to \n",
    "# calculate the total price. Note: assume that the user can only have 1 unit of each product.\n",
    "\n",
    "def total_price(customer_orders):\n",
    "    total = 0\n",
    "    prices = [float(input(f\"Enter the price of {product}: \")) for product in customer_orders]\n",
    "    total += sum(prices)\n",
    "    return total"
   ]
  },
  {
   "cell_type": "code",
   "execution_count": 10,
   "id": "895be6a6",
   "metadata": {},
   "outputs": [
    {
     "data": {
      "text/plain": [
       "'def update_inventory(customer_orders, inventory):\\n    for product in customer_orders:\\n        if product in inventory and inventory[product] > 0:\\n            inventory[product] -= 1 \\n        elif inventory[product] == 0:\\n            inventory.pop(product)'"
      ]
     },
     "execution_count": 10,
     "metadata": {},
     "output_type": "execute_result"
    }
   ],
   "source": [
    "#4. Modify the update_inventory function to remove the product from the inventory if its quantity \n",
    "# becomes zero after fulfilling the customer orders. Use comprehension to filter out the products \n",
    "# with a quantity of zero from the inventory.\n",
    "          \n",
    "\"\"\"def update_inventory(customer_orders, inventory):\n",
    "    for product in customer_orders:\n",
    "        if product in inventory and inventory[product] > 0:\n",
    "            inventory[product] -= 1 \n",
    "        elif inventory[product] == 0:\n",
    "            inventory.pop(product)\"\"\""
   ]
  },
  {
   "cell_type": "code",
   "execution_count": 11,
   "id": "d9015add",
   "metadata": {},
   "outputs": [
    {
     "ename": "NameError",
     "evalue": "name 'inventory' is not defined",
     "output_type": "error",
     "traceback": [
      "\u001b[1;31m---------------------------------------------------------------------------\u001b[0m",
      "\u001b[1;31mNameError\u001b[0m                                 Traceback (most recent call last)",
      "Cell \u001b[1;32mIn[11], line 1\u001b[0m\n\u001b[1;32m----> 1\u001b[0m inventory\n",
      "\u001b[1;31mNameError\u001b[0m: name 'inventory' is not defined"
     ]
    }
   ],
   "source": [
    "inventory"
   ]
  },
  {
   "cell_type": "code",
   "execution_count": 12,
   "id": "b8af0c64",
   "metadata": {},
   "outputs": [],
   "source": [
    "def update_inventory(customer_orders, inventory):\n",
    "    up_inventory = {product: (quantity - 1 if product in customer_orders else  quantity) for  product,quantity in inventory.items()}\n",
    "    up_inventory = {product: quantity for product, quantity in up_inventory.items() if quantity > 0}\n",
    "    return up_inventory"
   ]
  },
  {
   "cell_type": "code",
   "execution_count": 13,
   "id": "7b5b03da",
   "metadata": {},
   "outputs": [],
   "source": [
    "inventory = {'t-shirt': 2, 'mug': 2, 'hat': 1, 'book': 2, 'keychain': 2}"
   ]
  },
  {
   "cell_type": "code",
   "execution_count": 14,
   "id": "d8e33734",
   "metadata": {},
   "outputs": [
    {
     "data": {
      "text/plain": [
       "{'t-shirt': 2, 'mug': 2, 'book': 1, 'keychain': 2}"
      ]
     },
     "execution_count": 14,
     "metadata": {},
     "output_type": "execute_result"
    }
   ],
   "source": [
    "update_inventory({'hat','book'}, inventory)"
   ]
  },
  {
   "cell_type": "code",
   "execution_count": 15,
   "id": "c65ec06d",
   "metadata": {},
   "outputs": [],
   "source": [
    "def calculate_order_statistics(customer_orders, products): \n",
    "    unique_products_ordered = len(set(customer_orders))\n",
    "    total_products_ordered = len(customer_orders)\n",
    "    percentage_ordered = (unique_products_ordered / total_products_ordered) * 100\n",
    "    return total_products_ordered, percentage_ordered"
   ]
  },
  {
   "cell_type": "code",
   "execution_count": 16,
   "id": "598b11c2",
   "metadata": {},
   "outputs": [],
   "source": [
    "def print_order_statistics(order_statistics):\n",
    "    total_products_ordered, percentage_ordered = order_statistics\n",
    "\n",
    "    print(f\"\\n-- Order Statistics --\")\n",
    "    print(f\"Total Products Ordered: {total_products_ordered}\")\n",
    "    print(f\"Percentage of Unique Products Ordered: {percentage_ordered}%\")"
   ]
  },
  {
   "cell_type": "code",
   "execution_count": 17,
   "id": "0c9dbe2f",
   "metadata": {},
   "outputs": [],
   "source": [
    "def print_updated_inventory(inventory):\n",
    "    print(\"\\n-- Updated inventory --\")    \n",
    "    for product, quantity in inventory.items():\n",
    "        print(f\"{product}: {int(inventory[product])}\")         "
   ]
  },
  {
   "cell_type": "code",
   "execution_count": 21,
   "id": "7a3c689b",
   "metadata": {
    "scrolled": true
   },
   "outputs": [
    {
     "name": "stdout",
     "output_type": "stream",
     "text": [
      "Enter the quantity of t-shirt available: 2\n",
      "Enter the quantity of mug available: 2\n",
      "Enter the quantity of hat available: 2\n",
      "Enter the quantity of book available: 2\n",
      "Enter the quantity of keychain available: 2\n",
      "\n",
      "Enter the number of customer orders: -2\n"
     ]
    },
    {
     "ename": "ZeroDivisionError",
     "evalue": "division by zero",
     "output_type": "error",
     "traceback": [
      "\u001b[1;31m---------------------------------------------------------------------------\u001b[0m",
      "\u001b[1;31mZeroDivisionError\u001b[0m                         Traceback (most recent call last)",
      "Cell \u001b[1;32mIn[21], line 8\u001b[0m\n\u001b[0;32m      5\u001b[0m new_inventory \u001b[38;5;241m=\u001b[39m update_inventory(customer_orders, inventory)\n\u001b[0;32m      7\u001b[0m \u001b[38;5;66;03m# Calculate and print order statistics:\u001b[39;00m\n\u001b[1;32m----> 8\u001b[0m order_statistics \u001b[38;5;241m=\u001b[39m calculate_order_statistics(customer_orders, products_list)\n\u001b[0;32m      9\u001b[0m print_order_statistics(order_statistics)\n\u001b[0;32m     11\u001b[0m \u001b[38;5;66;03m# Print updated inventory:\u001b[39;00m\n",
      "Cell \u001b[1;32mIn[15], line 4\u001b[0m, in \u001b[0;36mcalculate_order_statistics\u001b[1;34m(customer_orders, products)\u001b[0m\n\u001b[0;32m      2\u001b[0m unique_products_ordered \u001b[38;5;241m=\u001b[39m \u001b[38;5;28mlen\u001b[39m(\u001b[38;5;28mset\u001b[39m(customer_orders))\n\u001b[0;32m      3\u001b[0m total_products_ordered \u001b[38;5;241m=\u001b[39m \u001b[38;5;28mlen\u001b[39m(customer_orders)\n\u001b[1;32m----> 4\u001b[0m percentage_ordered \u001b[38;5;241m=\u001b[39m (unique_products_ordered \u001b[38;5;241m/\u001b[39m total_products_ordered) \u001b[38;5;241m*\u001b[39m \u001b[38;5;241m100\u001b[39m\n\u001b[0;32m      5\u001b[0m \u001b[38;5;28;01mreturn\u001b[39;00m total_products_ordered, percentage_ordered\n",
      "\u001b[1;31mZeroDivisionError\u001b[0m: division by zero"
     ]
    }
   ],
   "source": [
    "# Getting the customer order and updating the inventory:\n",
    "products_list = [\"t-shirt\", \"mug\", \"hat\", \"book\", \"keychain\"]\n",
    "inventory = initialize_inventory(products_list)\n",
    "customer_orders = get_customer_orders()\n",
    "new_inventory = update_inventory(customer_orders, inventory)\n",
    "\n",
    "# Calculate and print order statistics:\n",
    "order_statistics = calculate_order_statistics(customer_orders, products_list)\n",
    "print_order_statistics(order_statistics)\n",
    "\n",
    "# Print updated inventory:\n",
    "print_updated_inventory(new_inventory)\n",
    "\n",
    "# 5. Print the total price of the customer order.\n",
    "total_order_price = total_price(customer_orders)\n",
    "print(f\"\\nTotal Price: {total_order_price}\")"
   ]
  },
  {
   "cell_type": "code",
   "execution_count": null,
   "id": "f0e15893",
   "metadata": {},
   "outputs": [],
   "source": []
  },
  {
   "cell_type": "code",
   "execution_count": null,
   "id": "9a7d46b1",
   "metadata": {},
   "outputs": [],
   "source": []
  }
 ],
 "metadata": {
  "kernelspec": {
   "display_name": "Python 3 (ipykernel)",
   "language": "python",
   "name": "python3"
  },
  "language_info": {
   "codemirror_mode": {
    "name": "ipython",
    "version": 3
   },
   "file_extension": ".py",
   "mimetype": "text/x-python",
   "name": "python",
   "nbconvert_exporter": "python",
   "pygments_lexer": "ipython3",
   "version": "3.11.5"
  }
 },
 "nbformat": 4,
 "nbformat_minor": 5
}
