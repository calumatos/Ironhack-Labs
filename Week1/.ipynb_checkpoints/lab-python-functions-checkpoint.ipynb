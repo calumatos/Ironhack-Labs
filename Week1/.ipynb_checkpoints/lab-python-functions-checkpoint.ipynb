{
 "cells": [
  {
   "cell_type": "markdown",
   "id": "25d7736c-ba17-4aff-b6bb-66eba20fbf4e",
   "metadata": {},
   "source": [
    "# Lab | Functions"
   ]
  },
  {
   "cell_type": "markdown",
   "id": "0c581062-8967-4d93-b06e-62833222f930",
   "metadata": {
    "tags": []
   },
   "source": [
    "## Exercise: Managing Customer Orders with Functions\n",
    "\n",
    "In the previous exercise, you improved the code for managing customer orders by using loops and flow control. Now, let's take it a step further and refactor the code by introducing functions.\n",
    "\n",
    "Follow the steps below to complete the exercise:\n",
    "\n",
    "1. Define a function named `initialize_inventory` that takes `products` as a parameter. Inside the function, implement the code for initializing the inventory dictionary using a loop and user input.\n",
    "\n",
    "2. Define a function named `get_customer_orders` that takes no parameters. Inside the function, implement the code for prompting the user to enter the product names using a loop. The function should return the `customer_orders` set.\n",
    "\n",
    "3. Define a function named `update_inventory` that takes `customer_orders` and `inventory` as parameters. Inside the function, implement the code for updating the inventory dictionary based on the customer orders.\n",
    "\n",
    "4. Define a function named `calculate_order_statistics` that takes `customer_orders` and `products` as parameters. Inside the function, implement the code for calculating the order statistics (total products ordered, and percentage of unique products ordered). The function should return these values.\n",
    "\n",
    "5. Define a function named `print_order_statistics` that takes `order_statistics` as a parameter. Inside the function, implement the code for printing the order statistics.\n",
    "\n",
    "6. Define a function named `print_updated_inventory` that takes `inventory` as a parameter. Inside the function, implement the code for printing the updated inventory.\n",
    "\n",
    "7. Call the functions in the appropriate sequence to execute the program and manage customer orders.\n",
    "\n",
    "Hints for functions:\n",
    "\n",
    "- Consider the input parameters required for each function and their return values.\n",
    "- Utilize function parameters and return values to transfer data between functions.\n",
    "- Test your functions individually to ensure they work correctly.\n",
    "\n",
    "\n"
   ]
  },
  {
   "cell_type": "code",
   "execution_count": 1,
   "id": "7f7fe13d",
   "metadata": {
    "scrolled": false
   },
   "outputs": [],
   "source": [
    "products = [\"t-shirt\", \"mug\", \"hat\", \"book\", \"keychain\"]"
   ]
  },
  {
   "cell_type": "code",
   "execution_count": 2,
   "id": "e726fdf1",
   "metadata": {},
   "outputs": [],
   "source": [
    "# 1. Define a function named initialize_inventory that takes products as a parameter. \n",
    "# Inside the function, implement the code for initializing the inventory dictionary using a loop and user input.\n",
    "\n",
    "def initialize_inventory(products):\n",
    "    inventory = {}\n",
    "    for i in products:\n",
    "        quant = int(input(f\"Enter the quantity of {i}: \"))\n",
    "        inventory[i] = quant\n",
    "    return inventory"
   ]
  },
  {
   "cell_type": "code",
   "execution_count": 3,
   "id": "11be666e",
   "metadata": {},
   "outputs": [],
   "source": [
    "# 2. Define a function named get_customer_orders that takes no parameters.\n",
    "# Inside the function, implement the code for prompting the user to enter the product names using a loop. \n",
    "# The function should return the customer_orders set.\n",
    "\n",
    "def get_customer_orders():\n",
    "    count = 0\n",
    "    while True:\n",
    "        order = input(f\"Please choose product number {count+1} to order: \")\n",
    "        customer_orders.append(order)\n",
    "        answer = input(\"Do you want to add another product (yes/no)? \")\n",
    "        if answer == 'yes':\n",
    "            count += 1\n",
    "        if answer == 'no':\n",
    "            break      \n",
    "    print(\"Thank you for your order!\")\n",
    "    return customer_orders"
   ]
  },
  {
   "cell_type": "code",
   "execution_count": 4,
   "id": "57e68b0a",
   "metadata": {},
   "outputs": [],
   "source": [
    "# 3. Define a function named update_inventory that takes customer_orders and inventory as parameters. \n",
    "# Inside the function, implement the code for updating the inventory dictionary based on the customer orders.\n",
    "\n",
    "inventory = {}          \n",
    "def update_inventory(customer_orders, inventory):\n",
    "    for product in customer_orders:\n",
    "        if product in inventory and inventory[product] > 0:\n",
    "            inventory[product] -= 1            "
   ]
  },
  {
   "cell_type": "code",
   "execution_count": 5,
   "id": "b96b7df0",
   "metadata": {},
   "outputs": [],
   "source": [
    "# 4. Define a function named calculate_order_statistics that takes customer_orders and products as parameters. \n",
    "# Inside the function, implement the code for calculating the order statistics (total products ordered, and percentage \n",
    "# of unique products ordered). The function should return these values.\n",
    "\n",
    "def calculate_order_statistics(customer_orders, products): \n",
    "    unique_products_ordered = len(set(customer_orders))\n",
    "    total_products_ordered = len(customer_orders)\n",
    "    percentage_ordered = (unique_products_ordered / len(products)) * 100\n",
    "    return total_products_ordered, percentage_ordered"
   ]
  },
  {
   "cell_type": "code",
   "execution_count": 6,
   "id": "e92a6562",
   "metadata": {},
   "outputs": [],
   "source": [
    "# 5. Define a function named print_order_statistics that takes order_statistics as a parameter. \n",
    "# Inside the function, implement the code for printing the order statistics.\n",
    "\n",
    "def print_order_statistics(order_statistics):\n",
    "    total_products_ordered, percentage_ordered = order_statistics\n",
    "\n",
    "    print(f\"Order Statistics: \")\n",
    "    print(f\"Total Products Ordered: {total_products_ordered}\")\n",
    "    print(f\"Percentage of Products Ordered: {percentage_ordered}%\")"
   ]
  },
  {
   "cell_type": "code",
   "execution_count": 7,
   "id": "0929acec",
   "metadata": {},
   "outputs": [],
   "source": [
    "# 6. Define a function named print_updated_inventory that takes inventory as a parameter. \n",
    "# Inside the function, implement the code for printing the updated inventory.\n",
    "     \n",
    "def print_updated_inventory(inventory):\n",
    "    print(\"-- Updated inventory --\")    \n",
    "    for product, quantity in inventory.items():\n",
    "        print(f\"{product}: {int(inventory[product]) - 1}\")           "
   ]
  },
  {
   "cell_type": "code",
   "execution_count": 8,
   "id": "df2c50f6",
   "metadata": {},
   "outputs": [],
   "source": [
    "# 7. Call the functions in the appropriate sequence to execute the program and manage customer orders."
   ]
  },
  {
   "cell_type": "code",
   "execution_count": 9,
   "id": "c6c4240a",
   "metadata": {},
   "outputs": [
    {
     "name": "stdout",
     "output_type": "stream",
     "text": [
      "Enter the quantity of t-shirt: 2\n",
      "Enter the quantity of mug: 2\n",
      "Enter the quantity of hat: 2\n",
      "Enter the quantity of book: 2\n",
      "Enter the quantity of keychain: 2\n"
     ]
    },
    {
     "data": {
      "text/plain": [
       "{'t-shirt': 2, 'mug': 2, 'hat': 2, 'book': 2, 'keychain': 2}"
      ]
     },
     "execution_count": 9,
     "metadata": {},
     "output_type": "execute_result"
    }
   ],
   "source": [
    "initialize_inventory(products)"
   ]
  },
  {
   "cell_type": "code",
   "execution_count": 10,
   "id": "126c91f4",
   "metadata": {},
   "outputs": [
    {
     "name": "stdout",
     "output_type": "stream",
     "text": [
      "Please choose product number 1 to order: hat\n"
     ]
    },
    {
     "ename": "NameError",
     "evalue": "name 'customer_orders' is not defined",
     "output_type": "error",
     "traceback": [
      "\u001b[1;31m---------------------------------------------------------------------------\u001b[0m",
      "\u001b[1;31mNameError\u001b[0m                                 Traceback (most recent call last)",
      "Cell \u001b[1;32mIn[10], line 1\u001b[0m\n\u001b[1;32m----> 1\u001b[0m get_customer_orders()\n",
      "Cell \u001b[1;32mIn[3], line 9\u001b[0m, in \u001b[0;36mget_customer_orders\u001b[1;34m()\u001b[0m\n\u001b[0;32m      7\u001b[0m \u001b[38;5;28;01mwhile\u001b[39;00m \u001b[38;5;28;01mTrue\u001b[39;00m:\n\u001b[0;32m      8\u001b[0m     order \u001b[38;5;241m=\u001b[39m \u001b[38;5;28minput\u001b[39m(\u001b[38;5;124mf\u001b[39m\u001b[38;5;124m\"\u001b[39m\u001b[38;5;124mPlease choose product number \u001b[39m\u001b[38;5;132;01m{\u001b[39;00mcount\u001b[38;5;241m+\u001b[39m\u001b[38;5;241m1\u001b[39m\u001b[38;5;132;01m}\u001b[39;00m\u001b[38;5;124m to order: \u001b[39m\u001b[38;5;124m\"\u001b[39m)\n\u001b[1;32m----> 9\u001b[0m     customer_orders\u001b[38;5;241m.\u001b[39mappend(order)\n\u001b[0;32m     10\u001b[0m     answer \u001b[38;5;241m=\u001b[39m \u001b[38;5;28minput\u001b[39m(\u001b[38;5;124m\"\u001b[39m\u001b[38;5;124mDo you want to add another product (yes/no)? \u001b[39m\u001b[38;5;124m\"\u001b[39m)\n\u001b[0;32m     11\u001b[0m     \u001b[38;5;28;01mif\u001b[39;00m answer \u001b[38;5;241m==\u001b[39m \u001b[38;5;124m'\u001b[39m\u001b[38;5;124myes\u001b[39m\u001b[38;5;124m'\u001b[39m:\n",
      "\u001b[1;31mNameError\u001b[0m: name 'customer_orders' is not defined"
     ]
    }
   ],
   "source": [
    "get_customer_orders()"
   ]
  },
  {
   "cell_type": "code",
   "execution_count": null,
   "id": "5b73d7f9",
   "metadata": {},
   "outputs": [],
   "source": [
    "update_inventory(customer_orders, inventory)"
   ]
  },
  {
   "cell_type": "code",
   "execution_count": null,
   "id": "8b5a9b82",
   "metadata": {},
   "outputs": [],
   "source": [
    "calculate_order_statistics(customer_orders, products)"
   ]
  },
  {
   "cell_type": "code",
   "execution_count": null,
   "id": "7c40e7f9",
   "metadata": {},
   "outputs": [],
   "source": [
    "print_order_statistics(order_statistics)"
   ]
  },
  {
   "cell_type": "code",
   "execution_count": null,
   "id": "1f4d2f12",
   "metadata": {},
   "outputs": [],
   "source": [
    "print_updated_inventory(inventory)"
   ]
  }
 ],
 "metadata": {
  "kernelspec": {
   "display_name": "Python 3 (ipykernel)",
   "language": "python",
   "name": "python3"
  },
  "language_info": {
   "codemirror_mode": {
    "name": "ipython",
    "version": 3
   },
   "file_extension": ".py",
   "mimetype": "text/x-python",
   "name": "python",
   "nbconvert_exporter": "python",
   "pygments_lexer": "ipython3",
   "version": "3.11.5"
  }
 },
 "nbformat": 4,
 "nbformat_minor": 5
}
