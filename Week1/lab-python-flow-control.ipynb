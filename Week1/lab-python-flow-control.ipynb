{
 "cells": [
  {
   "cell_type": "markdown",
   "id": "d3bfc191-8885-42ee-b0a0-bbab867c6f9f",
   "metadata": {
    "tags": []
   },
   "source": [
    "# Lab | Flow Control"
   ]
  },
  {
   "cell_type": "markdown",
   "id": "3851fcd1-cf98-4653-9c89-e003b7ec9400",
   "metadata": {},
   "source": [
    "## Exercise: Managing Customer Orders Optimized\n",
    "\n",
    "In the last lab, you were starting an online store that sells various products. To ensure smooth operations, you developed a program that manages customer orders and inventory.\n",
    "\n",
    "You did so without using flow control. Let's go a step further and improve this code.\n",
    "\n",
    "Follow the steps below to complete the exercise:\n",
    "\n",
    "1. Look at your code from the lab data structures, and improve repeated code with loops.\n",
    "\n",
    "2. Instead of asking the user to input the name of three products that a customer wants to order, do the following:\n",
    "    \n",
    "    a. Prompt the user to enter the name of a product that a customer wants to order.\n",
    "    \n",
    "    b. Add the product name to the \"customer_orders\" set.\n",
    "    \n",
    "    c. Ask the user if they want to add another product (yes/no).\n",
    "    \n",
    "    d. Continue the loop until the user does not want to add another product.\n",
    "\n",
    "3. Instead of updating the inventory by subtracting 1 from the quantity of each product, only do it for  the products that were ordered (those in \"customer_orders\")."
   ]
  },
  {
   "cell_type": "code",
   "execution_count": 13,
   "id": "8b207c8a",
   "metadata": {},
   "outputs": [],
   "source": [
    "prod_list = [\"t-shirt\", \"mug\", \"hat\", \"book\", \"keychain\"]"
   ]
  },
  {
   "cell_type": "code",
   "execution_count": 14,
   "id": "88075f32",
   "metadata": {},
   "outputs": [
    {
     "data": {
      "text/plain": [
       "dict"
      ]
     },
     "execution_count": 14,
     "metadata": {},
     "output_type": "execute_result"
    }
   ],
   "source": [
    "inventory = {}\n",
    "type(inventory)"
   ]
  },
  {
   "cell_type": "code",
   "execution_count": 15,
   "id": "8537e11f",
   "metadata": {},
   "outputs": [
    {
     "name": "stdout",
     "output_type": "stream",
     "text": [
      "Enter the quantity of t-shirt: 3\n",
      "Enter the quantity of mug: 3\n",
      "Enter the quantity of hat: 3\n",
      "Enter the quantity of book: 3\n",
      "Enter the quantity of keychain: 3\n"
     ]
    }
   ],
   "source": [
    "# 1. Look at your code from the lab data structures, and improve repeated code with loops.\n",
    "\n",
    "inventory = {}\n",
    "for i in prod_list:\n",
    "    quant = int(input(f\"Enter the quantity of {i}: \"))\n",
    "    inventory[i] = quant"
   ]
  },
  {
   "cell_type": "code",
   "execution_count": 16,
   "id": "8cac54a6",
   "metadata": {},
   "outputs": [
    {
     "name": "stdout",
     "output_type": "stream",
     "text": [
      "{'t-shirt': 3, 'mug': 3, 'hat': 3, 'book': 3, 'keychain': 3}\n"
     ]
    }
   ],
   "source": [
    "print(inventory)"
   ]
  },
  {
   "cell_type": "code",
   "execution_count": 17,
   "id": "e0bdc837",
   "metadata": {},
   "outputs": [],
   "source": [
    "customer_orders = []\n",
    "customer_orders = set(customer_orders)"
   ]
  },
  {
   "cell_type": "code",
   "execution_count": 18,
   "id": "a7f2acf5",
   "metadata": {},
   "outputs": [
    {
     "name": "stdout",
     "output_type": "stream",
     "text": [
      "Please choose product number 1 to order: hat\n",
      "Do you want to add another product (yes/no)? yes\n",
      "Please choose product number 2 to order: mug\n",
      "Do you want to add another product (yes/no)? no\n",
      "Thank you for your order!\n"
     ]
    }
   ],
   "source": [
    "# 2. Instead of asking the user to input the name of three products that a customer wants to order, do the following:\n",
    "#a. Prompt the user to enter the name of a product that a customer wants to order.\n",
    "#b. Add the product name to the \"customer_orders\" set.\n",
    "#c. Ask the user if they want to add another product (yes/no).\n",
    "#d. Continue the loop until the user does not want to add another product.\n",
    "\n",
    "count = 0\n",
    "while True:\n",
    "    order = input(f\"Please choose product number {count+1} to order: \")\n",
    "    customer_orders.add(order)\n",
    "    answer = input(\"Do you want to add another product (yes/no)? \")\n",
    "    if answer == 'yes':\n",
    "        count += 1\n",
    "    if answer == 'no':\n",
    "        break      \n",
    "print(\"Thank you for your order!\")"
   ]
  },
  {
   "cell_type": "code",
   "execution_count": 19,
   "id": "3174aa1f",
   "metadata": {},
   "outputs": [
    {
     "name": "stdout",
     "output_type": "stream",
     "text": [
      "{'hat', 'mug'}\n"
     ]
    }
   ],
   "source": [
    "print(customer_orders)"
   ]
  },
  {
   "cell_type": "code",
   "execution_count": 20,
   "id": "2852ceda",
   "metadata": {},
   "outputs": [],
   "source": [
    "total_products_ordered = len(set(customer_orders))\n",
    "total_quantity = sum(int(quantity) for quantity in inventory.values())\n",
    "percentage_ordered = (total_products_ordered/total_quantity)*100\n",
    "\n",
    "order_status = (total_products_ordered, percentage_ordered)"
   ]
  },
  {
   "cell_type": "code",
   "execution_count": 21,
   "id": "d3c13004",
   "metadata": {},
   "outputs": [
    {
     "name": "stdout",
     "output_type": "stream",
     "text": [
      "Order Statistics: \n",
      "Total Products Ordered: 2 \n",
      "Percentage of Products Ordered: 13.333333333333334 \n"
     ]
    }
   ],
   "source": [
    "print(f\"Order Statistics: \")\n",
    "print(f\"Total Products Ordered: {total_products_ordered} \")\n",
    "print(f\"Percentage of Products Ordered: {percentage_ordered} \")"
   ]
  },
  {
   "cell_type": "code",
   "execution_count": 22,
   "id": "1531dbe3",
   "metadata": {},
   "outputs": [
    {
     "name": "stdout",
     "output_type": "stream",
     "text": [
      "-- Uptaded inventory --\n",
      "hat: 2\n",
      "mug: 2\n"
     ]
    }
   ],
   "source": [
    "# 3- Instead of updating the inventory by subtracting 1 from the quantity of each product, \n",
    "# only do it for the products that were ordered (those in \"customer_orders\").\n",
    "   \n",
    "print(\"-- Uptaded inventory --\")    \n",
    "\n",
    "for i in customer_orders:\n",
    "    print(f\"{i}: {int(inventory[i]) - 1}\")        "
   ]
  }
 ],
 "metadata": {
  "kernelspec": {
   "display_name": "Python 3 (ipykernel)",
   "language": "python",
   "name": "python3"
  },
  "language_info": {
   "codemirror_mode": {
    "name": "ipython",
    "version": 3
   },
   "file_extension": ".py",
   "mimetype": "text/x-python",
   "name": "python",
   "nbconvert_exporter": "python",
   "pygments_lexer": "ipython3",
   "version": "3.11.5"
  }
 },
 "nbformat": 4,
 "nbformat_minor": 5
}
