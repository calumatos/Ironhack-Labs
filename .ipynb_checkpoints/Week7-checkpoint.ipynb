{
 "cells": [
  {
   "cell_type": "code",
   "execution_count": null,
   "id": "04f4869e",
   "metadata": {},
   "outputs": [],
   "source": [
    "# For this lab, you'll be using the same dataset you used in the previous customer analysis case study labs. \n",
    "# We recommend using the same notebook since you will be reusing the same variables you previously created and used in labs.\n",
    "\n",
    "# Instructions\n",
    "# Fit the models LinearRegression, Lasso and Ridge and compare the model performances.\n",
    "# Define a function that takes a list of models and trains (and tests) them so we can try a lot of them without repeating code.\n",
    "# Use feature selection techniques (P-Value, RFE) to select a subset of features to train the model with.\n",
    "# (optional) Refit the models with the selected features."
   ]
  },
  {
   "cell_type": "code",
   "execution_count": 3,
   "id": "e7a6ab71",
   "metadata": {},
   "outputs": [],
   "source": [
    "import seaborn as sns\n",
    "import pandas as pd\n",
    "import numpy as np\n",
    "import math "
   ]
  },
  {
   "cell_type": "code",
   "execution_count": 4,
   "id": "dfdafd87",
   "metadata": {},
   "outputs": [
    {
     "data": {
      "text/html": [
       "<div>\n",
       "<style scoped>\n",
       "    .dataframe tbody tr th:only-of-type {\n",
       "        vertical-align: middle;\n",
       "    }\n",
       "\n",
       "    .dataframe tbody tr th {\n",
       "        vertical-align: top;\n",
       "    }\n",
       "\n",
       "    .dataframe thead th {\n",
       "        text-align: right;\n",
       "    }\n",
       "</style>\n",
       "<table border=\"1\" class=\"dataframe\">\n",
       "  <thead>\n",
       "    <tr style=\"text-align: right;\">\n",
       "      <th></th>\n",
       "      <th>unnamed:_0</th>\n",
       "      <th>customer</th>\n",
       "      <th>state</th>\n",
       "      <th>customer_lifetime_value</th>\n",
       "      <th>response</th>\n",
       "      <th>coverage</th>\n",
       "      <th>education</th>\n",
       "      <th>effective_to_date</th>\n",
       "      <th>employmentstatus</th>\n",
       "      <th>gender</th>\n",
       "      <th>...</th>\n",
       "      <th>number_of_policies</th>\n",
       "      <th>policy_type</th>\n",
       "      <th>policy</th>\n",
       "      <th>renew_offer_type</th>\n",
       "      <th>sales_channel</th>\n",
       "      <th>total_claim_amount</th>\n",
       "      <th>vehicle_class</th>\n",
       "      <th>vehicle_size</th>\n",
       "      <th>vehicle_type</th>\n",
       "      <th>month</th>\n",
       "    </tr>\n",
       "  </thead>\n",
       "  <tbody>\n",
       "    <tr>\n",
       "      <th>0</th>\n",
       "      <td>0</td>\n",
       "      <td>DK49336</td>\n",
       "      <td>Arizona</td>\n",
       "      <td>4809.216960</td>\n",
       "      <td>No</td>\n",
       "      <td>Basic</td>\n",
       "      <td>College</td>\n",
       "      <td>2011-02-18</td>\n",
       "      <td>Employed</td>\n",
       "      <td>M</td>\n",
       "      <td>...</td>\n",
       "      <td>9</td>\n",
       "      <td>Corporate Auto</td>\n",
       "      <td>Corporate L3</td>\n",
       "      <td>Offer3</td>\n",
       "      <td>Agent</td>\n",
       "      <td>292.800000</td>\n",
       "      <td>Four-Door Car</td>\n",
       "      <td>Medsize</td>\n",
       "      <td>A</td>\n",
       "      <td>2</td>\n",
       "    </tr>\n",
       "    <tr>\n",
       "      <th>1</th>\n",
       "      <td>1</td>\n",
       "      <td>KX64629</td>\n",
       "      <td>California</td>\n",
       "      <td>2228.525238</td>\n",
       "      <td>No</td>\n",
       "      <td>Basic</td>\n",
       "      <td>College</td>\n",
       "      <td>2011-01-18</td>\n",
       "      <td>Unemployed</td>\n",
       "      <td>F</td>\n",
       "      <td>...</td>\n",
       "      <td>1</td>\n",
       "      <td>Personal Auto</td>\n",
       "      <td>Personal L3</td>\n",
       "      <td>Offer4</td>\n",
       "      <td>Call Center</td>\n",
       "      <td>744.924331</td>\n",
       "      <td>Four-Door Car</td>\n",
       "      <td>Medsize</td>\n",
       "      <td>A</td>\n",
       "      <td>1</td>\n",
       "    </tr>\n",
       "    <tr>\n",
       "      <th>2</th>\n",
       "      <td>2</td>\n",
       "      <td>LZ68649</td>\n",
       "      <td>Washington</td>\n",
       "      <td>14947.917300</td>\n",
       "      <td>No</td>\n",
       "      <td>Basic</td>\n",
       "      <td>Bachelor</td>\n",
       "      <td>2011-02-10</td>\n",
       "      <td>Employed</td>\n",
       "      <td>M</td>\n",
       "      <td>...</td>\n",
       "      <td>2</td>\n",
       "      <td>Personal Auto</td>\n",
       "      <td>Personal L3</td>\n",
       "      <td>Offer3</td>\n",
       "      <td>Call Center</td>\n",
       "      <td>480.000000</td>\n",
       "      <td>SUV</td>\n",
       "      <td>Medsize</td>\n",
       "      <td>A</td>\n",
       "      <td>2</td>\n",
       "    </tr>\n",
       "    <tr>\n",
       "      <th>3</th>\n",
       "      <td>3</td>\n",
       "      <td>XL78013</td>\n",
       "      <td>Oregon</td>\n",
       "      <td>22332.439460</td>\n",
       "      <td>Yes</td>\n",
       "      <td>Extended</td>\n",
       "      <td>College</td>\n",
       "      <td>2011-01-11</td>\n",
       "      <td>Employed</td>\n",
       "      <td>M</td>\n",
       "      <td>...</td>\n",
       "      <td>2</td>\n",
       "      <td>Corporate Auto</td>\n",
       "      <td>Corporate L3</td>\n",
       "      <td>Offer2</td>\n",
       "      <td>Branch</td>\n",
       "      <td>484.013411</td>\n",
       "      <td>Four-Door Car</td>\n",
       "      <td>Medsize</td>\n",
       "      <td>A</td>\n",
       "      <td>1</td>\n",
       "    </tr>\n",
       "    <tr>\n",
       "      <th>4</th>\n",
       "      <td>4</td>\n",
       "      <td>QA50777</td>\n",
       "      <td>Oregon</td>\n",
       "      <td>9025.067525</td>\n",
       "      <td>No</td>\n",
       "      <td>Premium</td>\n",
       "      <td>Bachelor</td>\n",
       "      <td>2011-01-17</td>\n",
       "      <td>Medical Leave</td>\n",
       "      <td>F</td>\n",
       "      <td>...</td>\n",
       "      <td>7</td>\n",
       "      <td>Personal Auto</td>\n",
       "      <td>Personal L2</td>\n",
       "      <td>Offer1</td>\n",
       "      <td>Branch</td>\n",
       "      <td>707.925645</td>\n",
       "      <td>Four-Door Car</td>\n",
       "      <td>Medsize</td>\n",
       "      <td>A</td>\n",
       "      <td>1</td>\n",
       "    </tr>\n",
       "  </tbody>\n",
       "</table>\n",
       "<p>5 rows × 27 columns</p>\n",
       "</div>"
      ],
      "text/plain": [
       "   unnamed:_0 customer       state  customer_lifetime_value response  \\\n",
       "0           0  DK49336     Arizona              4809.216960       No   \n",
       "1           1  KX64629  California              2228.525238       No   \n",
       "2           2  LZ68649  Washington             14947.917300       No   \n",
       "3           3  XL78013      Oregon             22332.439460      Yes   \n",
       "4           4  QA50777      Oregon              9025.067525       No   \n",
       "\n",
       "   coverage education effective_to_date employmentstatus gender  ...  \\\n",
       "0     Basic   College        2011-02-18         Employed      M  ...   \n",
       "1     Basic   College        2011-01-18       Unemployed      F  ...   \n",
       "2     Basic  Bachelor        2011-02-10         Employed      M  ...   \n",
       "3  Extended   College        2011-01-11         Employed      M  ...   \n",
       "4   Premium  Bachelor        2011-01-17    Medical Leave      F  ...   \n",
       "\n",
       "   number_of_policies     policy_type        policy  renew_offer_type  \\\n",
       "0                   9  Corporate Auto  Corporate L3            Offer3   \n",
       "1                   1   Personal Auto   Personal L3            Offer4   \n",
       "2                   2   Personal Auto   Personal L3            Offer3   \n",
       "3                   2  Corporate Auto  Corporate L3            Offer2   \n",
       "4                   7   Personal Auto   Personal L2            Offer1   \n",
       "\n",
       "   sales_channel  total_claim_amount  vehicle_class  vehicle_size  \\\n",
       "0          Agent          292.800000  Four-Door Car       Medsize   \n",
       "1    Call Center          744.924331  Four-Door Car       Medsize   \n",
       "2    Call Center          480.000000            SUV       Medsize   \n",
       "3         Branch          484.013411  Four-Door Car       Medsize   \n",
       "4         Branch          707.925645  Four-Door Car       Medsize   \n",
       "\n",
       "  vehicle_type month  \n",
       "0            A     2  \n",
       "1            A     1  \n",
       "2            A     2  \n",
       "3            A     1  \n",
       "4            A     1  \n",
       "\n",
       "[5 rows x 27 columns]"
      ]
     },
     "execution_count": 4,
     "metadata": {},
     "output_type": "execute_result"
    }
   ],
   "source": [
    "# Load dataset from an csv file\n",
    "\n",
    "df = pd.read_csv('marketing_customer_analysis_clean.csv')\n",
    "df.head()"
   ]
  },
  {
   "cell_type": "code",
   "execution_count": 5,
   "id": "b2f3eecc",
   "metadata": {},
   "outputs": [
    {
     "data": {
      "text/plain": [
       "(10910, 27)"
      ]
     },
     "execution_count": 5,
     "metadata": {},
     "output_type": "execute_result"
    }
   ],
   "source": [
    "df.shape # (10910,27)"
   ]
  },
  {
   "cell_type": "code",
   "execution_count": 6,
   "id": "874e2d98",
   "metadata": {},
   "outputs": [],
   "source": [
    "df = df.dropna()"
   ]
  },
  {
   "cell_type": "code",
   "execution_count": 7,
   "id": "c75c5d56",
   "metadata": {},
   "outputs": [],
   "source": [
    "# X-y split (y is the target variable, in this case, \"total claim amount\") ### numerical variables \n",
    "\n",
    "X = df[['customer_lifetime_value', 'income', 'monthly_premium_auto', 'months_since_last_claim', \n",
    "        'months_since_policy_inception', 'number_of_open_complaints', 'number_of_policies', 'month']]\n",
    "y = df[['total_claim_amount']]"
   ]
  },
  {
   "cell_type": "code",
   "execution_count": 8,
   "id": "7614d46c",
   "metadata": {},
   "outputs": [
    {
     "data": {
      "text/html": [
       "<div>\n",
       "<style scoped>\n",
       "    .dataframe tbody tr th:only-of-type {\n",
       "        vertical-align: middle;\n",
       "    }\n",
       "\n",
       "    .dataframe tbody tr th {\n",
       "        vertical-align: top;\n",
       "    }\n",
       "\n",
       "    .dataframe thead th {\n",
       "        text-align: right;\n",
       "    }\n",
       "</style>\n",
       "<table border=\"1\" class=\"dataframe\">\n",
       "  <thead>\n",
       "    <tr style=\"text-align: right;\">\n",
       "      <th></th>\n",
       "      <th>customer_lifetime_value</th>\n",
       "      <th>income</th>\n",
       "      <th>monthly_premium_auto</th>\n",
       "      <th>months_since_last_claim</th>\n",
       "      <th>months_since_policy_inception</th>\n",
       "      <th>number_of_open_complaints</th>\n",
       "      <th>number_of_policies</th>\n",
       "      <th>month</th>\n",
       "    </tr>\n",
       "  </thead>\n",
       "  <tbody>\n",
       "    <tr>\n",
       "      <th>0</th>\n",
       "      <td>4809.216960</td>\n",
       "      <td>48029</td>\n",
       "      <td>61</td>\n",
       "      <td>7.000000</td>\n",
       "      <td>52</td>\n",
       "      <td>0.000000</td>\n",
       "      <td>9</td>\n",
       "      <td>2</td>\n",
       "    </tr>\n",
       "    <tr>\n",
       "      <th>1</th>\n",
       "      <td>2228.525238</td>\n",
       "      <td>0</td>\n",
       "      <td>64</td>\n",
       "      <td>3.000000</td>\n",
       "      <td>26</td>\n",
       "      <td>0.000000</td>\n",
       "      <td>1</td>\n",
       "      <td>1</td>\n",
       "    </tr>\n",
       "    <tr>\n",
       "      <th>2</th>\n",
       "      <td>14947.917300</td>\n",
       "      <td>22139</td>\n",
       "      <td>100</td>\n",
       "      <td>34.000000</td>\n",
       "      <td>31</td>\n",
       "      <td>0.000000</td>\n",
       "      <td>2</td>\n",
       "      <td>2</td>\n",
       "    </tr>\n",
       "    <tr>\n",
       "      <th>3</th>\n",
       "      <td>22332.439460</td>\n",
       "      <td>49078</td>\n",
       "      <td>97</td>\n",
       "      <td>10.000000</td>\n",
       "      <td>3</td>\n",
       "      <td>0.000000</td>\n",
       "      <td>2</td>\n",
       "      <td>1</td>\n",
       "    </tr>\n",
       "    <tr>\n",
       "      <th>4</th>\n",
       "      <td>9025.067525</td>\n",
       "      <td>23675</td>\n",
       "      <td>117</td>\n",
       "      <td>15.149071</td>\n",
       "      <td>31</td>\n",
       "      <td>0.384256</td>\n",
       "      <td>7</td>\n",
       "      <td>1</td>\n",
       "    </tr>\n",
       "    <tr>\n",
       "      <th>...</th>\n",
       "      <td>...</td>\n",
       "      <td>...</td>\n",
       "      <td>...</td>\n",
       "      <td>...</td>\n",
       "      <td>...</td>\n",
       "      <td>...</td>\n",
       "      <td>...</td>\n",
       "      <td>...</td>\n",
       "    </tr>\n",
       "    <tr>\n",
       "      <th>10905</th>\n",
       "      <td>15563.369440</td>\n",
       "      <td>0</td>\n",
       "      <td>253</td>\n",
       "      <td>15.149071</td>\n",
       "      <td>40</td>\n",
       "      <td>0.384256</td>\n",
       "      <td>7</td>\n",
       "      <td>1</td>\n",
       "    </tr>\n",
       "    <tr>\n",
       "      <th>10906</th>\n",
       "      <td>5259.444853</td>\n",
       "      <td>61146</td>\n",
       "      <td>65</td>\n",
       "      <td>7.000000</td>\n",
       "      <td>68</td>\n",
       "      <td>0.000000</td>\n",
       "      <td>6</td>\n",
       "      <td>1</td>\n",
       "    </tr>\n",
       "    <tr>\n",
       "      <th>10907</th>\n",
       "      <td>23893.304100</td>\n",
       "      <td>39837</td>\n",
       "      <td>201</td>\n",
       "      <td>11.000000</td>\n",
       "      <td>63</td>\n",
       "      <td>0.000000</td>\n",
       "      <td>2</td>\n",
       "      <td>2</td>\n",
       "    </tr>\n",
       "    <tr>\n",
       "      <th>10908</th>\n",
       "      <td>11971.977650</td>\n",
       "      <td>64195</td>\n",
       "      <td>158</td>\n",
       "      <td>0.000000</td>\n",
       "      <td>27</td>\n",
       "      <td>4.000000</td>\n",
       "      <td>6</td>\n",
       "      <td>2</td>\n",
       "    </tr>\n",
       "    <tr>\n",
       "      <th>10909</th>\n",
       "      <td>6857.519928</td>\n",
       "      <td>0</td>\n",
       "      <td>101</td>\n",
       "      <td>31.000000</td>\n",
       "      <td>1</td>\n",
       "      <td>0.000000</td>\n",
       "      <td>3</td>\n",
       "      <td>1</td>\n",
       "    </tr>\n",
       "  </tbody>\n",
       "</table>\n",
       "<p>10910 rows × 8 columns</p>\n",
       "</div>"
      ],
      "text/plain": [
       "       customer_lifetime_value  income  monthly_premium_auto  \\\n",
       "0                  4809.216960   48029                    61   \n",
       "1                  2228.525238       0                    64   \n",
       "2                 14947.917300   22139                   100   \n",
       "3                 22332.439460   49078                    97   \n",
       "4                  9025.067525   23675                   117   \n",
       "...                        ...     ...                   ...   \n",
       "10905             15563.369440       0                   253   \n",
       "10906              5259.444853   61146                    65   \n",
       "10907             23893.304100   39837                   201   \n",
       "10908             11971.977650   64195                   158   \n",
       "10909              6857.519928       0                   101   \n",
       "\n",
       "       months_since_last_claim  months_since_policy_inception  \\\n",
       "0                     7.000000                             52   \n",
       "1                     3.000000                             26   \n",
       "2                    34.000000                             31   \n",
       "3                    10.000000                              3   \n",
       "4                    15.149071                             31   \n",
       "...                        ...                            ...   \n",
       "10905                15.149071                             40   \n",
       "10906                 7.000000                             68   \n",
       "10907                11.000000                             63   \n",
       "10908                 0.000000                             27   \n",
       "10909                31.000000                              1   \n",
       "\n",
       "       number_of_open_complaints  number_of_policies  month  \n",
       "0                       0.000000                   9      2  \n",
       "1                       0.000000                   1      1  \n",
       "2                       0.000000                   2      2  \n",
       "3                       0.000000                   2      1  \n",
       "4                       0.384256                   7      1  \n",
       "...                          ...                 ...    ...  \n",
       "10905                   0.384256                   7      1  \n",
       "10906                   0.000000                   6      1  \n",
       "10907                   0.000000                   2      2  \n",
       "10908                   4.000000                   6      2  \n",
       "10909                   0.000000                   3      1  \n",
       "\n",
       "[10910 rows x 8 columns]"
      ]
     },
     "execution_count": 8,
     "metadata": {},
     "output_type": "execute_result"
    }
   ],
   "source": [
    "X"
   ]
  },
  {
   "cell_type": "code",
   "execution_count": 9,
   "id": "211e8ded",
   "metadata": {},
   "outputs": [
    {
     "data": {
      "text/html": [
       "<div>\n",
       "<style scoped>\n",
       "    .dataframe tbody tr th:only-of-type {\n",
       "        vertical-align: middle;\n",
       "    }\n",
       "\n",
       "    .dataframe tbody tr th {\n",
       "        vertical-align: top;\n",
       "    }\n",
       "\n",
       "    .dataframe thead th {\n",
       "        text-align: right;\n",
       "    }\n",
       "</style>\n",
       "<table border=\"1\" class=\"dataframe\">\n",
       "  <thead>\n",
       "    <tr style=\"text-align: right;\">\n",
       "      <th></th>\n",
       "      <th>total_claim_amount</th>\n",
       "    </tr>\n",
       "  </thead>\n",
       "  <tbody>\n",
       "    <tr>\n",
       "      <th>0</th>\n",
       "      <td>292.800000</td>\n",
       "    </tr>\n",
       "    <tr>\n",
       "      <th>1</th>\n",
       "      <td>744.924331</td>\n",
       "    </tr>\n",
       "    <tr>\n",
       "      <th>2</th>\n",
       "      <td>480.000000</td>\n",
       "    </tr>\n",
       "    <tr>\n",
       "      <th>3</th>\n",
       "      <td>484.013411</td>\n",
       "    </tr>\n",
       "    <tr>\n",
       "      <th>4</th>\n",
       "      <td>707.925645</td>\n",
       "    </tr>\n",
       "    <tr>\n",
       "      <th>...</th>\n",
       "      <td>...</td>\n",
       "    </tr>\n",
       "    <tr>\n",
       "      <th>10905</th>\n",
       "      <td>1214.400000</td>\n",
       "    </tr>\n",
       "    <tr>\n",
       "      <th>10906</th>\n",
       "      <td>273.018929</td>\n",
       "    </tr>\n",
       "    <tr>\n",
       "      <th>10907</th>\n",
       "      <td>381.306996</td>\n",
       "    </tr>\n",
       "    <tr>\n",
       "      <th>10908</th>\n",
       "      <td>618.288849</td>\n",
       "    </tr>\n",
       "    <tr>\n",
       "      <th>10909</th>\n",
       "      <td>1021.719397</td>\n",
       "    </tr>\n",
       "  </tbody>\n",
       "</table>\n",
       "<p>10910 rows × 1 columns</p>\n",
       "</div>"
      ],
      "text/plain": [
       "       total_claim_amount\n",
       "0              292.800000\n",
       "1              744.924331\n",
       "2              480.000000\n",
       "3              484.013411\n",
       "4              707.925645\n",
       "...                   ...\n",
       "10905         1214.400000\n",
       "10906          273.018929\n",
       "10907          381.306996\n",
       "10908          618.288849\n",
       "10909         1021.719397\n",
       "\n",
       "[10910 rows x 1 columns]"
      ]
     },
     "execution_count": 9,
     "metadata": {},
     "output_type": "execute_result"
    }
   ],
   "source": [
    "y"
   ]
  },
  {
   "cell_type": "code",
   "execution_count": 10,
   "id": "73232449",
   "metadata": {},
   "outputs": [],
   "source": [
    "# Train-test split\n",
    "\n",
    "from sklearn.model_selection import train_test_split"
   ]
  },
  {
   "cell_type": "code",
   "execution_count": 11,
   "id": "86299dab",
   "metadata": {},
   "outputs": [],
   "source": [
    "X_train, X_test, y_train, y_test = train_test_split(X, y, test_size = 0.25, random_state = 100)"
   ]
  },
  {
   "cell_type": "code",
   "execution_count": 12,
   "id": "d9c16622",
   "metadata": {},
   "outputs": [],
   "source": [
    "# Standardize the data (after the data split!)"
   ]
  },
  {
   "cell_type": "code",
   "execution_count": 13,
   "id": "3761ac30",
   "metadata": {},
   "outputs": [],
   "source": [
    "from sklearn.preprocessing import MinMaxScaler, StandardScaler, PowerTransformer\n",
    "\n",
    "scaler = StandardScaler()"
   ]
  },
  {
   "cell_type": "code",
   "execution_count": 14,
   "id": "e0a9f3a9",
   "metadata": {},
   "outputs": [
    {
     "data": {
      "text/html": [
       "<div>\n",
       "<style scoped>\n",
       "    .dataframe tbody tr th:only-of-type {\n",
       "        vertical-align: middle;\n",
       "    }\n",
       "\n",
       "    .dataframe tbody tr th {\n",
       "        vertical-align: top;\n",
       "    }\n",
       "\n",
       "    .dataframe thead th {\n",
       "        text-align: right;\n",
       "    }\n",
       "</style>\n",
       "<table border=\"1\" class=\"dataframe\">\n",
       "  <thead>\n",
       "    <tr style=\"text-align: right;\">\n",
       "      <th></th>\n",
       "      <th>customer_lifetime_value</th>\n",
       "      <th>income</th>\n",
       "      <th>monthly_premium_auto</th>\n",
       "      <th>months_since_last_claim</th>\n",
       "      <th>months_since_policy_inception</th>\n",
       "      <th>number_of_open_complaints</th>\n",
       "      <th>number_of_policies</th>\n",
       "      <th>month</th>\n",
       "    </tr>\n",
       "  </thead>\n",
       "  <tbody>\n",
       "    <tr>\n",
       "      <th>0</th>\n",
       "      <td>-0.298649</td>\n",
       "      <td>0.352458</td>\n",
       "      <td>-0.556749</td>\n",
       "      <td>0.007560</td>\n",
       "      <td>-1.468668</td>\n",
       "      <td>0.007752</td>\n",
       "      <td>0.415700</td>\n",
       "      <td>-0.940879</td>\n",
       "    </tr>\n",
       "    <tr>\n",
       "      <th>1</th>\n",
       "      <td>-0.392857</td>\n",
       "      <td>-1.239629</td>\n",
       "      <td>-0.556749</td>\n",
       "      <td>0.402051</td>\n",
       "      <td>0.821920</td>\n",
       "      <td>-0.429234</td>\n",
       "      <td>-0.000509</td>\n",
       "      <td>-0.940879</td>\n",
       "    </tr>\n",
       "    <tr>\n",
       "      <th>2</th>\n",
       "      <td>-0.821583</td>\n",
       "      <td>-0.504792</td>\n",
       "      <td>-0.817683</td>\n",
       "      <td>0.094730</td>\n",
       "      <td>1.609310</td>\n",
       "      <td>-0.429234</td>\n",
       "      <td>-0.832927</td>\n",
       "      <td>-0.940879</td>\n",
       "    </tr>\n",
       "    <tr>\n",
       "      <th>3</th>\n",
       "      <td>2.879646</td>\n",
       "      <td>-1.239629</td>\n",
       "      <td>0.544971</td>\n",
       "      <td>0.811813</td>\n",
       "      <td>-1.003392</td>\n",
       "      <td>-0.429234</td>\n",
       "      <td>-0.416718</td>\n",
       "      <td>1.062836</td>\n",
       "    </tr>\n",
       "    <tr>\n",
       "      <th>4</th>\n",
       "      <td>1.002198</td>\n",
       "      <td>1.985075</td>\n",
       "      <td>-0.585742</td>\n",
       "      <td>2.041098</td>\n",
       "      <td>-0.430745</td>\n",
       "      <td>-0.429234</td>\n",
       "      <td>-0.416718</td>\n",
       "      <td>1.062836</td>\n",
       "    </tr>\n",
       "    <tr>\n",
       "      <th>...</th>\n",
       "      <td>...</td>\n",
       "      <td>...</td>\n",
       "      <td>...</td>\n",
       "      <td>...</td>\n",
       "      <td>...</td>\n",
       "      <td>...</td>\n",
       "      <td>...</td>\n",
       "      <td>...</td>\n",
       "    </tr>\n",
       "    <tr>\n",
       "      <th>8177</th>\n",
       "      <td>-0.809832</td>\n",
       "      <td>0.340586</td>\n",
       "      <td>-0.904661</td>\n",
       "      <td>-1.339436</td>\n",
       "      <td>0.106112</td>\n",
       "      <td>-0.429234</td>\n",
       "      <td>-0.832927</td>\n",
       "      <td>1.062836</td>\n",
       "    </tr>\n",
       "    <tr>\n",
       "      <th>8178</th>\n",
       "      <td>0.201285</td>\n",
       "      <td>1.266199</td>\n",
       "      <td>0.631949</td>\n",
       "      <td>-0.417472</td>\n",
       "      <td>-0.144422</td>\n",
       "      <td>-0.429234</td>\n",
       "      <td>-0.000509</td>\n",
       "      <td>1.062836</td>\n",
       "    </tr>\n",
       "    <tr>\n",
       "      <th>8179</th>\n",
       "      <td>-0.455121</td>\n",
       "      <td>0.985263</td>\n",
       "      <td>-0.933653</td>\n",
       "      <td>-1.134555</td>\n",
       "      <td>-0.931811</td>\n",
       "      <td>-0.429234</td>\n",
       "      <td>2.496746</td>\n",
       "      <td>1.062836</td>\n",
       "    </tr>\n",
       "    <tr>\n",
       "      <th>8180</th>\n",
       "      <td>1.953516</td>\n",
       "      <td>-1.239629</td>\n",
       "      <td>0.429000</td>\n",
       "      <td>-0.007711</td>\n",
       "      <td>-1.110764</td>\n",
       "      <td>-0.429234</td>\n",
       "      <td>-0.416718</td>\n",
       "      <td>-0.940879</td>\n",
       "    </tr>\n",
       "    <tr>\n",
       "      <th>8181</th>\n",
       "      <td>-0.501884</td>\n",
       "      <td>-1.239629</td>\n",
       "      <td>-0.817683</td>\n",
       "      <td>0.914253</td>\n",
       "      <td>1.609310</td>\n",
       "      <td>-0.429234</td>\n",
       "      <td>2.496746</td>\n",
       "      <td>1.062836</td>\n",
       "    </tr>\n",
       "  </tbody>\n",
       "</table>\n",
       "<p>8182 rows × 8 columns</p>\n",
       "</div>"
      ],
      "text/plain": [
       "      customer_lifetime_value    income  monthly_premium_auto  \\\n",
       "0                   -0.298649  0.352458             -0.556749   \n",
       "1                   -0.392857 -1.239629             -0.556749   \n",
       "2                   -0.821583 -0.504792             -0.817683   \n",
       "3                    2.879646 -1.239629              0.544971   \n",
       "4                    1.002198  1.985075             -0.585742   \n",
       "...                       ...       ...                   ...   \n",
       "8177                -0.809832  0.340586             -0.904661   \n",
       "8178                 0.201285  1.266199              0.631949   \n",
       "8179                -0.455121  0.985263             -0.933653   \n",
       "8180                 1.953516 -1.239629              0.429000   \n",
       "8181                -0.501884 -1.239629             -0.817683   \n",
       "\n",
       "      months_since_last_claim  months_since_policy_inception  \\\n",
       "0                    0.007560                      -1.468668   \n",
       "1                    0.402051                       0.821920   \n",
       "2                    0.094730                       1.609310   \n",
       "3                    0.811813                      -1.003392   \n",
       "4                    2.041098                      -0.430745   \n",
       "...                       ...                            ...   \n",
       "8177                -1.339436                       0.106112   \n",
       "8178                -0.417472                      -0.144422   \n",
       "8179                -1.134555                      -0.931811   \n",
       "8180                -0.007711                      -1.110764   \n",
       "8181                 0.914253                       1.609310   \n",
       "\n",
       "      number_of_open_complaints  number_of_policies     month  \n",
       "0                      0.007752            0.415700 -0.940879  \n",
       "1                     -0.429234           -0.000509 -0.940879  \n",
       "2                     -0.429234           -0.832927 -0.940879  \n",
       "3                     -0.429234           -0.416718  1.062836  \n",
       "4                     -0.429234           -0.416718  1.062836  \n",
       "...                         ...                 ...       ...  \n",
       "8177                  -0.429234           -0.832927  1.062836  \n",
       "8178                  -0.429234           -0.000509  1.062836  \n",
       "8179                  -0.429234            2.496746  1.062836  \n",
       "8180                  -0.429234           -0.416718 -0.940879  \n",
       "8181                  -0.429234            2.496746  1.062836  \n",
       "\n",
       "[8182 rows x 8 columns]"
      ]
     },
     "execution_count": 14,
     "metadata": {},
     "output_type": "execute_result"
    }
   ],
   "source": [
    "# fit and scale for X_train\n",
    "\n",
    "scaler.fit(X_train)\n",
    "X_train_scaled = scaler.transform(X_train)\n",
    "X_train_scaled = pd.DataFrame(X_train_scaled, columns = X_train.columns)\n",
    "X_train_scaled"
   ]
  },
  {
   "cell_type": "code",
   "execution_count": 15,
   "id": "ecb5503e",
   "metadata": {},
   "outputs": [
    {
     "data": {
      "text/html": [
       "<div>\n",
       "<style scoped>\n",
       "    .dataframe tbody tr th:only-of-type {\n",
       "        vertical-align: middle;\n",
       "    }\n",
       "\n",
       "    .dataframe tbody tr th {\n",
       "        vertical-align: top;\n",
       "    }\n",
       "\n",
       "    .dataframe thead th {\n",
       "        text-align: right;\n",
       "    }\n",
       "</style>\n",
       "<table border=\"1\" class=\"dataframe\">\n",
       "  <thead>\n",
       "    <tr style=\"text-align: right;\">\n",
       "      <th></th>\n",
       "      <th>customer_lifetime_value</th>\n",
       "      <th>income</th>\n",
       "      <th>monthly_premium_auto</th>\n",
       "      <th>months_since_last_claim</th>\n",
       "      <th>months_since_policy_inception</th>\n",
       "      <th>number_of_open_complaints</th>\n",
       "      <th>number_of_policies</th>\n",
       "      <th>month</th>\n",
       "    </tr>\n",
       "  </thead>\n",
       "  <tbody>\n",
       "    <tr>\n",
       "      <th>0</th>\n",
       "      <td>-0.760433</td>\n",
       "      <td>-0.356162</td>\n",
       "      <td>-0.643727</td>\n",
       "      <td>-1.134555</td>\n",
       "      <td>-0.251793</td>\n",
       "      <td>-0.429234</td>\n",
       "      <td>-0.832927</td>\n",
       "      <td>1.062836</td>\n",
       "    </tr>\n",
       "    <tr>\n",
       "      <th>1</th>\n",
       "      <td>-0.790735</td>\n",
       "      <td>-0.560557</td>\n",
       "      <td>-0.643727</td>\n",
       "      <td>-0.007711</td>\n",
       "      <td>1.179825</td>\n",
       "      <td>0.707991</td>\n",
       "      <td>-0.832927</td>\n",
       "      <td>1.062836</td>\n",
       "    </tr>\n",
       "    <tr>\n",
       "      <th>2</th>\n",
       "      <td>-0.073986</td>\n",
       "      <td>-1.239629</td>\n",
       "      <td>0.400008</td>\n",
       "      <td>-0.929675</td>\n",
       "      <td>0.535597</td>\n",
       "      <td>-0.429234</td>\n",
       "      <td>2.080537</td>\n",
       "      <td>-0.940879</td>\n",
       "    </tr>\n",
       "    <tr>\n",
       "      <th>3</th>\n",
       "      <td>1.261077</td>\n",
       "      <td>0.403474</td>\n",
       "      <td>-0.672720</td>\n",
       "      <td>-0.110151</td>\n",
       "      <td>-0.752859</td>\n",
       "      <td>2.982439</td>\n",
       "      <td>-0.416718</td>\n",
       "      <td>1.062836</td>\n",
       "    </tr>\n",
       "    <tr>\n",
       "      <th>4</th>\n",
       "      <td>0.183538</td>\n",
       "      <td>-0.006667</td>\n",
       "      <td>0.689934</td>\n",
       "      <td>1.528896</td>\n",
       "      <td>-0.967602</td>\n",
       "      <td>-0.429234</td>\n",
       "      <td>0.831910</td>\n",
       "      <td>1.062836</td>\n",
       "    </tr>\n",
       "    <tr>\n",
       "      <th>...</th>\n",
       "      <td>...</td>\n",
       "      <td>...</td>\n",
       "      <td>...</td>\n",
       "      <td>...</td>\n",
       "      <td>...</td>\n",
       "      <td>...</td>\n",
       "      <td>...</td>\n",
       "      <td>...</td>\n",
       "    </tr>\n",
       "    <tr>\n",
       "      <th>2723</th>\n",
       "      <td>1.298055</td>\n",
       "      <td>-0.220130</td>\n",
       "      <td>-0.614734</td>\n",
       "      <td>-1.441877</td>\n",
       "      <td>-1.504458</td>\n",
       "      <td>1.845215</td>\n",
       "      <td>-0.416718</td>\n",
       "      <td>-0.940879</td>\n",
       "    </tr>\n",
       "    <tr>\n",
       "      <th>2724</th>\n",
       "      <td>-0.426642</td>\n",
       "      <td>-0.280149</td>\n",
       "      <td>0.979860</td>\n",
       "      <td>-1.339436</td>\n",
       "      <td>1.144034</td>\n",
       "      <td>-0.429234</td>\n",
       "      <td>-0.832927</td>\n",
       "      <td>-0.940879</td>\n",
       "    </tr>\n",
       "    <tr>\n",
       "      <th>2725</th>\n",
       "      <td>-0.181434</td>\n",
       "      <td>-1.239629</td>\n",
       "      <td>0.052096</td>\n",
       "      <td>-0.007711</td>\n",
       "      <td>-1.432878</td>\n",
       "      <td>-0.429234</td>\n",
       "      <td>0.831910</td>\n",
       "      <td>1.062836</td>\n",
       "    </tr>\n",
       "    <tr>\n",
       "      <th>2726</th>\n",
       "      <td>-0.593347</td>\n",
       "      <td>1.812075</td>\n",
       "      <td>0.197059</td>\n",
       "      <td>-1.441877</td>\n",
       "      <td>0.249273</td>\n",
       "      <td>-0.429234</td>\n",
       "      <td>-0.832927</td>\n",
       "      <td>1.062836</td>\n",
       "    </tr>\n",
       "    <tr>\n",
       "      <th>2727</th>\n",
       "      <td>0.050921</td>\n",
       "      <td>1.186063</td>\n",
       "      <td>0.313030</td>\n",
       "      <td>1.631336</td>\n",
       "      <td>-1.576039</td>\n",
       "      <td>-0.429234</td>\n",
       "      <td>2.496746</td>\n",
       "      <td>1.062836</td>\n",
       "    </tr>\n",
       "  </tbody>\n",
       "</table>\n",
       "<p>2728 rows × 8 columns</p>\n",
       "</div>"
      ],
      "text/plain": [
       "      customer_lifetime_value    income  monthly_premium_auto  \\\n",
       "0                   -0.760433 -0.356162             -0.643727   \n",
       "1                   -0.790735 -0.560557             -0.643727   \n",
       "2                   -0.073986 -1.239629              0.400008   \n",
       "3                    1.261077  0.403474             -0.672720   \n",
       "4                    0.183538 -0.006667              0.689934   \n",
       "...                       ...       ...                   ...   \n",
       "2723                 1.298055 -0.220130             -0.614734   \n",
       "2724                -0.426642 -0.280149              0.979860   \n",
       "2725                -0.181434 -1.239629              0.052096   \n",
       "2726                -0.593347  1.812075              0.197059   \n",
       "2727                 0.050921  1.186063              0.313030   \n",
       "\n",
       "      months_since_last_claim  months_since_policy_inception  \\\n",
       "0                   -1.134555                      -0.251793   \n",
       "1                   -0.007711                       1.179825   \n",
       "2                   -0.929675                       0.535597   \n",
       "3                   -0.110151                      -0.752859   \n",
       "4                    1.528896                      -0.967602   \n",
       "...                       ...                            ...   \n",
       "2723                -1.441877                      -1.504458   \n",
       "2724                -1.339436                       1.144034   \n",
       "2725                -0.007711                      -1.432878   \n",
       "2726                -1.441877                       0.249273   \n",
       "2727                 1.631336                      -1.576039   \n",
       "\n",
       "      number_of_open_complaints  number_of_policies     month  \n",
       "0                     -0.429234           -0.832927  1.062836  \n",
       "1                      0.707991           -0.832927  1.062836  \n",
       "2                     -0.429234            2.080537 -0.940879  \n",
       "3                      2.982439           -0.416718  1.062836  \n",
       "4                     -0.429234            0.831910  1.062836  \n",
       "...                         ...                 ...       ...  \n",
       "2723                   1.845215           -0.416718 -0.940879  \n",
       "2724                  -0.429234           -0.832927 -0.940879  \n",
       "2725                  -0.429234            0.831910  1.062836  \n",
       "2726                  -0.429234           -0.832927  1.062836  \n",
       "2727                  -0.429234            2.496746  1.062836  \n",
       "\n",
       "[2728 rows x 8 columns]"
      ]
     },
     "execution_count": 15,
     "metadata": {},
     "output_type": "execute_result"
    }
   ],
   "source": [
    "# only scale for X_test, we dont fit them!!\n",
    "\n",
    "scaler.transform(X_test)\n",
    "X_test_scaled = scaler.transform(X_test)\n",
    "X_test_scaled = pd.DataFrame(X_test_scaled, columns = X_test.columns)\n",
    "X_test_scaled"
   ]
  },
  {
   "cell_type": "code",
   "execution_count": 16,
   "id": "2b5552d0",
   "metadata": {},
   "outputs": [],
   "source": [
    "# Apply linear regression.\n",
    "\n",
    "from sklearn.linear_model import LinearRegression"
   ]
  },
  {
   "cell_type": "code",
   "execution_count": 17,
   "id": "61ed12dd",
   "metadata": {},
   "outputs": [],
   "source": [
    "lm = LinearRegression()"
   ]
  },
  {
   "cell_type": "code",
   "execution_count": 18,
   "id": "9c738b5c",
   "metadata": {},
   "outputs": [],
   "source": [
    "# to create the model !!!!!!!\n",
    "\n",
    "model = lm.fit(X_train_scaled, y_train)"
   ]
  },
  {
   "cell_type": "code",
   "execution_count": 19,
   "id": "01bf956b",
   "metadata": {},
   "outputs": [],
   "source": [
    "coefficients = model.coef_"
   ]
  },
  {
   "cell_type": "code",
   "execution_count": 20,
   "id": "8b1faf87",
   "metadata": {},
   "outputs": [
    {
     "data": {
      "text/plain": [
       "array([[  -4.01892081, -101.7096646 ,  181.59461815,   -1.35710396,\n",
       "          -4.9644593 ,   -2.41851184,    0.42741983,   -0.85320728]])"
      ]
     },
     "execution_count": 20,
     "metadata": {},
     "output_type": "execute_result"
    }
   ],
   "source": [
    "coefficients"
   ]
  },
  {
   "cell_type": "code",
   "execution_count": 21,
   "id": "a406f1e5",
   "metadata": {},
   "outputs": [
    {
     "data": {
      "text/plain": [
       "array([434.06224734])"
      ]
     },
     "execution_count": 21,
     "metadata": {},
     "output_type": "execute_result"
    }
   ],
   "source": [
    "model.intercept_"
   ]
  },
  {
   "cell_type": "code",
   "execution_count": 22,
   "id": "ee6641b1",
   "metadata": {},
   "outputs": [],
   "source": [
    "# Model Interpretation\n",
    "\n",
    "y_pred = model.predict(X_test_scaled)"
   ]
  },
  {
   "cell_type": "code",
   "execution_count": 23,
   "id": "6486003b",
   "metadata": {},
   "outputs": [],
   "source": [
    "y_test.reset_index(inplace=True)"
   ]
  },
  {
   "cell_type": "code",
   "execution_count": 24,
   "id": "fd43043a",
   "metadata": {},
   "outputs": [
    {
     "data": {
      "text/html": [
       "<div>\n",
       "<style scoped>\n",
       "    .dataframe tbody tr th:only-of-type {\n",
       "        vertical-align: middle;\n",
       "    }\n",
       "\n",
       "    .dataframe tbody tr th {\n",
       "        vertical-align: top;\n",
       "    }\n",
       "\n",
       "    .dataframe thead th {\n",
       "        text-align: right;\n",
       "    }\n",
       "</style>\n",
       "<table border=\"1\" class=\"dataframe\">\n",
       "  <thead>\n",
       "    <tr style=\"text-align: right;\">\n",
       "      <th></th>\n",
       "      <th>0</th>\n",
       "    </tr>\n",
       "  </thead>\n",
       "  <tbody>\n",
       "    <tr>\n",
       "      <th>0</th>\n",
       "      <td>359.011139</td>\n",
       "    </tr>\n",
       "    <tr>\n",
       "      <th>1</th>\n",
       "      <td>368.534973</td>\n",
       "    </tr>\n",
       "    <tr>\n",
       "      <th>2</th>\n",
       "      <td>634.413943</td>\n",
       "    </tr>\n",
       "    <tr>\n",
       "      <th>3</th>\n",
       "      <td>261.383580</td>\n",
       "    </tr>\n",
       "    <tr>\n",
       "      <th>4</th>\n",
       "      <td>562.506569</td>\n",
       "    </tr>\n",
       "    <tr>\n",
       "      <th>...</th>\n",
       "      <td>...</td>\n",
       "    </tr>\n",
       "    <tr>\n",
       "      <th>2723</th>\n",
       "      <td>345.189930</td>\n",
       "    </tr>\n",
       "    <tr>\n",
       "      <th>2724</th>\n",
       "      <td>639.831179</td>\n",
       "    </tr>\n",
       "    <tr>\n",
       "      <th>2725</th>\n",
       "      <td>577.944843</td>\n",
       "    </tr>\n",
       "    <tr>\n",
       "      <th>2726</th>\n",
       "      <td>288.420724</td>\n",
       "    </tr>\n",
       "    <tr>\n",
       "      <th>2727</th>\n",
       "      <td>376.876725</td>\n",
       "    </tr>\n",
       "  </tbody>\n",
       "</table>\n",
       "<p>2728 rows × 1 columns</p>\n",
       "</div>"
      ],
      "text/plain": [
       "               0\n",
       "0     359.011139\n",
       "1     368.534973\n",
       "2     634.413943\n",
       "3     261.383580\n",
       "4     562.506569\n",
       "...          ...\n",
       "2723  345.189930\n",
       "2724  639.831179\n",
       "2725  577.944843\n",
       "2726  288.420724\n",
       "2727  376.876725\n",
       "\n",
       "[2728 rows x 1 columns]"
      ]
     },
     "execution_count": 24,
     "metadata": {},
     "output_type": "execute_result"
    }
   ],
   "source": [
    "pd.DataFrame(y_pred)"
   ]
  },
  {
   "cell_type": "code",
   "execution_count": 25,
   "id": "0d8f26f3",
   "metadata": {},
   "outputs": [
    {
     "data": {
      "text/plain": [
       "(2728, 1)"
      ]
     },
     "execution_count": 25,
     "metadata": {},
     "output_type": "execute_result"
    }
   ],
   "source": [
    "y_pred.shape"
   ]
  },
  {
   "cell_type": "code",
   "execution_count": 26,
   "id": "fd1d365d",
   "metadata": {},
   "outputs": [],
   "source": [
    "real_vs_pred = pd.DataFrame({'y_test': y_test['total_claim_amount'], 'y_pred': y_pred[:,0]})"
   ]
  },
  {
   "cell_type": "code",
   "execution_count": 27,
   "id": "d653c0fe",
   "metadata": {
    "scrolled": false
   },
   "outputs": [
    {
     "data": {
      "text/html": [
       "<div>\n",
       "<style scoped>\n",
       "    .dataframe tbody tr th:only-of-type {\n",
       "        vertical-align: middle;\n",
       "    }\n",
       "\n",
       "    .dataframe tbody tr th {\n",
       "        vertical-align: top;\n",
       "    }\n",
       "\n",
       "    .dataframe thead th {\n",
       "        text-align: right;\n",
       "    }\n",
       "</style>\n",
       "<table border=\"1\" class=\"dataframe\">\n",
       "  <thead>\n",
       "    <tr style=\"text-align: right;\">\n",
       "      <th></th>\n",
       "      <th>y_test</th>\n",
       "      <th>y_pred</th>\n",
       "    </tr>\n",
       "  </thead>\n",
       "  <tbody>\n",
       "    <tr>\n",
       "      <th>0</th>\n",
       "      <td>340.800000</td>\n",
       "      <td>359.011139</td>\n",
       "    </tr>\n",
       "    <tr>\n",
       "      <th>1</th>\n",
       "      <td>195.153339</td>\n",
       "      <td>368.534973</td>\n",
       "    </tr>\n",
       "    <tr>\n",
       "      <th>2</th>\n",
       "      <td>770.400000</td>\n",
       "      <td>634.413943</td>\n",
       "    </tr>\n",
       "    <tr>\n",
       "      <th>3</th>\n",
       "      <td>336.000000</td>\n",
       "      <td>261.383580</td>\n",
       "    </tr>\n",
       "    <tr>\n",
       "      <th>4</th>\n",
       "      <td>561.600000</td>\n",
       "      <td>562.506569</td>\n",
       "    </tr>\n",
       "    <tr>\n",
       "      <th>...</th>\n",
       "      <td>...</td>\n",
       "      <td>...</td>\n",
       "    </tr>\n",
       "    <tr>\n",
       "      <th>2723</th>\n",
       "      <td>345.600000</td>\n",
       "      <td>345.189930</td>\n",
       "    </tr>\n",
       "    <tr>\n",
       "      <th>2724</th>\n",
       "      <td>664.280864</td>\n",
       "      <td>639.831179</td>\n",
       "    </tr>\n",
       "    <tr>\n",
       "      <th>2725</th>\n",
       "      <td>684.000000</td>\n",
       "      <td>577.944843</td>\n",
       "    </tr>\n",
       "    <tr>\n",
       "      <th>2726</th>\n",
       "      <td>25.713622</td>\n",
       "      <td>288.420724</td>\n",
       "    </tr>\n",
       "    <tr>\n",
       "      <th>2727</th>\n",
       "      <td>497.684017</td>\n",
       "      <td>376.876725</td>\n",
       "    </tr>\n",
       "  </tbody>\n",
       "</table>\n",
       "<p>2728 rows × 2 columns</p>\n",
       "</div>"
      ],
      "text/plain": [
       "          y_test      y_pred\n",
       "0     340.800000  359.011139\n",
       "1     195.153339  368.534973\n",
       "2     770.400000  634.413943\n",
       "3     336.000000  261.383580\n",
       "4     561.600000  562.506569\n",
       "...          ...         ...\n",
       "2723  345.600000  345.189930\n",
       "2724  664.280864  639.831179\n",
       "2725  684.000000  577.944843\n",
       "2726   25.713622  288.420724\n",
       "2727  497.684017  376.876725\n",
       "\n",
       "[2728 rows x 2 columns]"
      ]
     },
     "execution_count": 27,
     "metadata": {},
     "output_type": "execute_result"
    }
   ],
   "source": [
    "real_vs_pred"
   ]
  },
  {
   "cell_type": "code",
   "execution_count": 28,
   "id": "34bfde5e",
   "metadata": {
    "scrolled": false
   },
   "outputs": [
    {
     "data": {
      "text/html": [
       "<table class=\"simpletable\">\n",
       "<caption>OLS Regression Results</caption>\n",
       "<tr>\n",
       "  <th>Dep. Variable:</th>    <td>total_claim_amount</td> <th>  R-squared:         </th> <td>   0.515</td> \n",
       "</tr>\n",
       "<tr>\n",
       "  <th>Model:</th>                    <td>OLS</td>        <th>  Adj. R-squared:    </th> <td>   0.515</td> \n",
       "</tr>\n",
       "<tr>\n",
       "  <th>Method:</th>              <td>Least Squares</td>   <th>  F-statistic:       </th> <td>   1087.</td> \n",
       "</tr>\n",
       "<tr>\n",
       "  <th>Date:</th>              <td>Mon, 27 Nov 2023</td>  <th>  Prob (F-statistic):</th>  <td>  0.00</td>  \n",
       "</tr>\n",
       "<tr>\n",
       "  <th>Time:</th>                  <td>15:58:26</td>      <th>  Log-Likelihood:    </th> <td> -55007.</td> \n",
       "</tr>\n",
       "<tr>\n",
       "  <th>No. Observations:</th>       <td>  8182</td>       <th>  AIC:               </th> <td>1.100e+05</td>\n",
       "</tr>\n",
       "<tr>\n",
       "  <th>Df Residuals:</th>           <td>  8173</td>       <th>  BIC:               </th> <td>1.101e+05</td>\n",
       "</tr>\n",
       "<tr>\n",
       "  <th>Df Model:</th>               <td>     8</td>       <th>                     </th>     <td> </td>    \n",
       "</tr>\n",
       "<tr>\n",
       "  <th>Covariance Type:</th>       <td>nonrobust</td>     <th>                     </th>     <td> </td>    \n",
       "</tr>\n",
       "</table>\n",
       "<table class=\"simpletable\">\n",
       "<tr>\n",
       "    <td></td>       <th>coef</th>     <th>std err</th>      <th>t</th>      <th>P>|t|</th>  <th>[0.025</th>    <th>0.975]</th>  \n",
       "</tr>\n",
       "<tr>\n",
       "  <th>const</th> <td>   87.8129</td> <td>   11.296</td> <td>    7.774</td> <td> 0.000</td> <td>   65.670</td> <td>  109.956</td>\n",
       "</tr>\n",
       "<tr>\n",
       "  <th>x1</th>    <td>   -0.0006</td> <td>    0.000</td> <td>   -1.638</td> <td> 0.101</td> <td>   -0.001</td> <td>    0.000</td>\n",
       "</tr>\n",
       "<tr>\n",
       "  <th>x2</th>    <td>   -0.0034</td> <td> 7.34e-05</td> <td>  -45.677</td> <td> 0.000</td> <td>   -0.003</td> <td>   -0.003</td>\n",
       "</tr>\n",
       "<tr>\n",
       "  <th>x3</th>    <td>    5.2649</td> <td>    0.071</td> <td>   74.113</td> <td> 0.000</td> <td>    5.126</td> <td>    5.404</td>\n",
       "</tr>\n",
       "<tr>\n",
       "  <th>x4</th>    <td>   -0.1390</td> <td>    0.228</td> <td>   -0.609</td> <td> 0.543</td> <td>   -0.586</td> <td>    0.308</td>\n",
       "</tr>\n",
       "<tr>\n",
       "  <th>x5</th>    <td>   -0.1777</td> <td>    0.080</td> <td>   -2.229</td> <td> 0.026</td> <td>   -0.334</td> <td>   -0.021</td>\n",
       "</tr>\n",
       "<tr>\n",
       "  <th>x6</th>    <td>   -2.7504</td> <td>    2.532</td> <td>   -1.086</td> <td> 0.277</td> <td>   -7.713</td> <td>    2.212</td>\n",
       "</tr>\n",
       "<tr>\n",
       "  <th>x7</th>    <td>    0.1779</td> <td>    0.927</td> <td>    0.192</td> <td> 0.848</td> <td>   -1.639</td> <td>    1.995</td>\n",
       "</tr>\n",
       "<tr>\n",
       "  <th>x8</th>    <td>   -1.7096</td> <td>    4.460</td> <td>   -0.383</td> <td> 0.701</td> <td>  -10.452</td> <td>    7.033</td>\n",
       "</tr>\n",
       "</table>\n",
       "<table class=\"simpletable\">\n",
       "<tr>\n",
       "  <th>Omnibus:</th>       <td>725.454</td> <th>  Durbin-Watson:     </th> <td>   1.993</td>\n",
       "</tr>\n",
       "<tr>\n",
       "  <th>Prob(Omnibus):</th> <td> 0.000</td>  <th>  Jarque-Bera (JB):  </th> <td>4004.761</td>\n",
       "</tr>\n",
       "<tr>\n",
       "  <th>Skew:</th>          <td> 0.235</td>  <th>  Prob(JB):          </th> <td>    0.00</td>\n",
       "</tr>\n",
       "<tr>\n",
       "  <th>Kurtosis:</th>      <td> 6.395</td>  <th>  Cond. No.          </th> <td>2.55e+05</td>\n",
       "</tr>\n",
       "</table><br/><br/>Notes:<br/>[1] Standard Errors assume that the covariance matrix of the errors is correctly specified.<br/>[2] The condition number is large, 2.55e+05. This might indicate that there are<br/>strong multicollinearity or other numerical problems."
      ],
      "text/latex": [
       "\\begin{center}\n",
       "\\begin{tabular}{lclc}\n",
       "\\toprule\n",
       "\\textbf{Dep. Variable:}    & total\\_claim\\_amount & \\textbf{  R-squared:         } &     0.515   \\\\\n",
       "\\textbf{Model:}            &         OLS          & \\textbf{  Adj. R-squared:    } &     0.515   \\\\\n",
       "\\textbf{Method:}           &    Least Squares     & \\textbf{  F-statistic:       } &     1087.   \\\\\n",
       "\\textbf{Date:}             &   Mon, 27 Nov 2023   & \\textbf{  Prob (F-statistic):} &     0.00    \\\\\n",
       "\\textbf{Time:}             &       15:58:26       & \\textbf{  Log-Likelihood:    } &   -55007.   \\\\\n",
       "\\textbf{No. Observations:} &          8182        & \\textbf{  AIC:               } & 1.100e+05   \\\\\n",
       "\\textbf{Df Residuals:}     &          8173        & \\textbf{  BIC:               } & 1.101e+05   \\\\\n",
       "\\textbf{Df Model:}         &             8        & \\textbf{                     } &             \\\\\n",
       "\\textbf{Covariance Type:}  &      nonrobust       & \\textbf{                     } &             \\\\\n",
       "\\bottomrule\n",
       "\\end{tabular}\n",
       "\\begin{tabular}{lcccccc}\n",
       "               & \\textbf{coef} & \\textbf{std err} & \\textbf{t} & \\textbf{P$> |$t$|$} & \\textbf{[0.025} & \\textbf{0.975]}  \\\\\n",
       "\\midrule\n",
       "\\textbf{const} &      87.8129  &       11.296     &     7.774  &         0.000        &       65.670    &      109.956     \\\\\n",
       "\\textbf{x1}    &      -0.0006  &        0.000     &    -1.638  &         0.101        &       -0.001    &        0.000     \\\\\n",
       "\\textbf{x2}    &      -0.0034  &     7.34e-05     &   -45.677  &         0.000        &       -0.003    &       -0.003     \\\\\n",
       "\\textbf{x3}    &       5.2649  &        0.071     &    74.113  &         0.000        &        5.126    &        5.404     \\\\\n",
       "\\textbf{x4}    &      -0.1390  &        0.228     &    -0.609  &         0.543        &       -0.586    &        0.308     \\\\\n",
       "\\textbf{x5}    &      -0.1777  &        0.080     &    -2.229  &         0.026        &       -0.334    &       -0.021     \\\\\n",
       "\\textbf{x6}    &      -2.7504  &        2.532     &    -1.086  &         0.277        &       -7.713    &        2.212     \\\\\n",
       "\\textbf{x7}    &       0.1779  &        0.927     &     0.192  &         0.848        &       -1.639    &        1.995     \\\\\n",
       "\\textbf{x8}    &      -1.7096  &        4.460     &    -0.383  &         0.701        &      -10.452    &        7.033     \\\\\n",
       "\\bottomrule\n",
       "\\end{tabular}\n",
       "\\begin{tabular}{lclc}\n",
       "\\textbf{Omnibus:}       & 725.454 & \\textbf{  Durbin-Watson:     } &    1.993  \\\\\n",
       "\\textbf{Prob(Omnibus):} &   0.000 & \\textbf{  Jarque-Bera (JB):  } & 4004.761  \\\\\n",
       "\\textbf{Skew:}          &   0.235 & \\textbf{  Prob(JB):          } &     0.00  \\\\\n",
       "\\textbf{Kurtosis:}      &   6.395 & \\textbf{  Cond. No.          } & 2.55e+05  \\\\\n",
       "\\bottomrule\n",
       "\\end{tabular}\n",
       "%\\caption{OLS Regression Results}\n",
       "\\end{center}\n",
       "\n",
       "Notes: \\newline\n",
       " [1] Standard Errors assume that the covariance matrix of the errors is correctly specified. \\newline\n",
       " [2] The condition number is large, 2.55e+05. This might indicate that there are \\newline\n",
       " strong multicollinearity or other numerical problems."
      ],
      "text/plain": [
       "<class 'statsmodels.iolib.summary.Summary'>\n",
       "\"\"\"\n",
       "                            OLS Regression Results                            \n",
       "==============================================================================\n",
       "Dep. Variable:     total_claim_amount   R-squared:                       0.515\n",
       "Model:                            OLS   Adj. R-squared:                  0.515\n",
       "Method:                 Least Squares   F-statistic:                     1087.\n",
       "Date:                Mon, 27 Nov 2023   Prob (F-statistic):               0.00\n",
       "Time:                        15:58:26   Log-Likelihood:                -55007.\n",
       "No. Observations:                8182   AIC:                         1.100e+05\n",
       "Df Residuals:                    8173   BIC:                         1.101e+05\n",
       "Df Model:                           8                                         \n",
       "Covariance Type:            nonrobust                                         \n",
       "==============================================================================\n",
       "                 coef    std err          t      P>|t|      [0.025      0.975]\n",
       "------------------------------------------------------------------------------\n",
       "const         87.8129     11.296      7.774      0.000      65.670     109.956\n",
       "x1            -0.0006      0.000     -1.638      0.101      -0.001       0.000\n",
       "x2            -0.0034   7.34e-05    -45.677      0.000      -0.003      -0.003\n",
       "x3             5.2649      0.071     74.113      0.000       5.126       5.404\n",
       "x4            -0.1390      0.228     -0.609      0.543      -0.586       0.308\n",
       "x5            -0.1777      0.080     -2.229      0.026      -0.334      -0.021\n",
       "x6            -2.7504      2.532     -1.086      0.277      -7.713       2.212\n",
       "x7             0.1779      0.927      0.192      0.848      -1.639       1.995\n",
       "x8            -1.7096      4.460     -0.383      0.701     -10.452       7.033\n",
       "==============================================================================\n",
       "Omnibus:                      725.454   Durbin-Watson:                   1.993\n",
       "Prob(Omnibus):                  0.000   Jarque-Bera (JB):             4004.761\n",
       "Skew:                           0.235   Prob(JB):                         0.00\n",
       "Kurtosis:                       6.395   Cond. No.                     2.55e+05\n",
       "==============================================================================\n",
       "\n",
       "Notes:\n",
       "[1] Standard Errors assume that the covariance matrix of the errors is correctly specified.\n",
       "[2] The condition number is large, 2.55e+05. This might indicate that there are\n",
       "strong multicollinearity or other numerical problems.\n",
       "\"\"\""
      ]
     },
     "execution_count": 28,
     "metadata": {},
     "output_type": "execute_result"
    }
   ],
   "source": [
    "### Linear Regression using statsmodels\n",
    "\n",
    "import statsmodels.api as sm\n",
    "\n",
    "X_train_const = sm.add_constant(X_train.to_numpy())\n",
    "\n",
    "model = sm.OLS(y_train, X_train_const).fit()\n",
    "predictions_train = model.predict(X_train_const)\n",
    "\n",
    "X_test_const = sm.add_constant(X_test)\n",
    "y_pred = model.predict(X_test_const)\n",
    "print_model = model.summary()\n",
    "print_model"
   ]
  },
  {
   "cell_type": "code",
   "execution_count": null,
   "id": "19969a4f",
   "metadata": {},
   "outputs": [],
   "source": [
    "# Model Evaluation: MSE. RMSE. MAE. R2. Adjusted R2.\n",
    "# Feature Importance."
   ]
  },
  {
   "cell_type": "code",
   "execution_count": 29,
   "id": "4c99b633",
   "metadata": {},
   "outputs": [],
   "source": [
    "import matplotlib.pyplot as plt"
   ]
  },
  {
   "cell_type": "code",
   "execution_count": 30,
   "id": "e7a973c1",
   "metadata": {},
   "outputs": [
    {
     "data": {
      "text/plain": [
       "(2728,)"
      ]
     },
     "execution_count": 30,
     "metadata": {},
     "output_type": "execute_result"
    }
   ],
   "source": [
    "y_test['total_claim_amount'].shape"
   ]
  },
  {
   "cell_type": "code",
   "execution_count": 31,
   "id": "405ba0e6",
   "metadata": {},
   "outputs": [
    {
     "data": {
      "text/plain": [
       "(2728,)"
      ]
     },
     "execution_count": 31,
     "metadata": {},
     "output_type": "execute_result"
    }
   ],
   "source": [
    "y_pred.shape"
   ]
  },
  {
   "cell_type": "code",
   "execution_count": 32,
   "id": "d903f50d",
   "metadata": {},
   "outputs": [
    {
     "data": {
      "text/plain": [
       "[<matplotlib.lines.Line2D at 0x2b9f329ed10>]"
      ]
     },
     "execution_count": 32,
     "metadata": {},
     "output_type": "execute_result"
    },
    {
     "data": {
      "image/png": "[encoded data removed]",
      "text/plain": [
       "<Figure size 1400x400 with 3 Axes>"
      ]
     },
     "metadata": {},
     "output_type": "display_data"
    }
   ],
   "source": [
    "### Some plots\n",
    "\n",
    "## Plot y_pred vs y_test\n",
    "fig, ax = plt.subplots(1,3,figsize=(14,4))\n",
    "ax[0].plot(y_pred, y_test['total_claim_amount'], 'o')\n",
    "ax[0].set_xlabel(\"y_test\")\n",
    "ax[0].set_ylabel(\"y_pred\")\n",
    "ax[0].set_title(\"Test Set -Predicted vs real\")\n",
    "\n",
    "# Get a histogram of the residuals ie: y - y_pred.\n",
    "# Does it ressemble a normal distribution?\n",
    "ax[1].hist(y_test['total_claim_amount'] - y_pred)\n",
    "ax[1].set_xlabel(\"Test y-y_pred\")\n",
    "ax[1].set_title(\"Test Set Residual histogram\")\n",
    "\n",
    "# Homoscedasticity\n",
    "ax[2].plot(y_pred,np.array(y_pred)-np.array(y_test['total_claim_amount']),\"o\")\n",
    "ax[2].set_xlabel(\"predicted\")\n",
    "ax[2].set_ylabel(\"residuals\")\n",
    "ax[2].set_title(\"Residuals by Predicted\")\n",
    "ax[2].plot(y_pred,np.zeros(len(y_pred)),linestyle='dashed')"
   ]
  },
  {
   "cell_type": "code",
   "execution_count": 33,
   "id": "f3adb9e9",
   "metadata": {},
   "outputs": [],
   "source": [
    "from sklearn.metrics import mean_squared_error as mse\n",
    "\n",
    "# Compute the MSE:\n",
    "# MSE is a risk function that helps us determine the average squared difference between the predicted and the\n",
    "# actual value of a feature or variable."
   ]
  },
  {
   "cell_type": "code",
   "execution_count": 34,
   "id": "9e3f4aa0",
   "metadata": {},
   "outputs": [
    {
     "data": {
      "text/plain": [
       "42443.37163762149"
      ]
     },
     "execution_count": 34,
     "metadata": {},
     "output_type": "execute_result"
    }
   ],
   "source": [
    "# mse: mean squared error\n",
    "mse = mse(real_vs_pred['y_test'], real_vs_pred['y_pred'])\n",
    "mse"
   ]
  },
  {
   "cell_type": "code",
   "execution_count": 35,
   "id": "5a949c42",
   "metadata": {},
   "outputs": [],
   "source": [
    "# RMSE is an acronym for Root Mean Square Error, which is the square root of value obtained \n",
    "# from Mean Square Error function. Using RMSE, we can easily plot a difference between the estimated and actual \n",
    "# values of a parameter of the model.\n",
    "\n",
    "# By this, we can clearly judge the efficiency of the model.\n",
    "# Usually, a RMSE score of less than 180 is considered a good score for a moderately or well working algorithm. \n",
    "# In case, the RMSE value exceeds 180, we need to perform feature selection and hyper parameter tuning on the \n",
    "# parameters of the model."
   ]
  },
  {
   "cell_type": "code",
   "execution_count": 36,
   "id": "370e8d57",
   "metadata": {},
   "outputs": [
    {
     "data": {
      "text/plain": [
       "206.01789154736412"
      ]
     },
     "execution_count": 36,
     "metadata": {},
     "output_type": "execute_result"
    }
   ],
   "source": [
    "# rmse: root mean squared error\n",
    "rmse = np.sqrt(mse)\n",
    "rmse"
   ]
  },
  {
   "cell_type": "code",
   "execution_count": 37,
   "id": "1db9aeb3",
   "metadata": {},
   "outputs": [],
   "source": [
    "from sklearn.metrics import mean_absolute_error\n",
    "\n",
    "# In general, the lower the MAE, the better the model predicts. \n",
    "# However, the relationship between MAE values and how good a model performs depends on the data. "
   ]
  },
  {
   "cell_type": "code",
   "execution_count": 38,
   "id": "ba919ac6",
   "metadata": {},
   "outputs": [
    {
     "data": {
      "text/plain": [
       "145.3193213837005"
      ]
     },
     "execution_count": 38,
     "metadata": {},
     "output_type": "execute_result"
    }
   ],
   "source": [
    "# MAE: Mean Absolute Error \n",
    "\n",
    "mae = mean_absolute_error(y_test['total_claim_amount'], y_pred) \n",
    "mae"
   ]
  },
  {
   "cell_type": "code",
   "execution_count": 39,
   "id": "cf44a05f",
   "metadata": {},
   "outputs": [],
   "source": [
    "from sklearn.metrics import r2_score \n",
    "\n",
    "# R2: Best possible score is 1.0 and it can be negative (because the model can be arbitrarily worse). \n",
    "# In the general case when the true y is non-constant, a constant model that always predicts the average y \n",
    "# disregarding the input features would get a score of 0.0."
   ]
  },
  {
   "cell_type": "code",
   "execution_count": 40,
   "id": "302d8c5b",
   "metadata": {},
   "outputs": [
    {
     "data": {
      "text/plain": [
       "0.5333477949342522"
      ]
     },
     "execution_count": 40,
     "metadata": {},
     "output_type": "execute_result"
    }
   ],
   "source": [
    "# R-squared (R2)\n",
    "\n",
    "r2 = r2_score(y_test['total_claim_amount'], y_pred)\n",
    "r2"
   ]
  },
  {
   "cell_type": "code",
   "execution_count": 41,
   "id": "100f4a57",
   "metadata": {},
   "outputs": [
    {
     "data": {
      "text/plain": [
       "0.5319747836652099"
      ]
     },
     "execution_count": 41,
     "metadata": {},
     "output_type": "execute_result"
    }
   ],
   "source": [
    "# adjusted R-squared\n",
    "n = len(X_test)  # Number of observations\n",
    "p = X_test.shape[1]  # Number of features\n",
    "adjusted_r2 = 1 - (1 - r2) * (n - 1) / (n - p - 1)\n",
    "adjusted_r2"
   ]
  },
  {
   "cell_type": "code",
   "execution_count": 42,
   "id": "f68aa43b",
   "metadata": {},
   "outputs": [],
   "source": [
    "### Feature_importances: \n",
    "# refers to techniques that assign a score to input features based on how useful they are \n",
    "# at predicting a target variable."
   ]
  },
  {
   "cell_type": "code",
   "execution_count": 43,
   "id": "fc6faf57",
   "metadata": {},
   "outputs": [
    {
     "data": {
      "text/plain": [
       "array([[  -4.01892081, -101.7096646 ,  181.59461815,   -1.35710396,\n",
       "          -4.9644593 ,   -2.41851184,    0.42741983,   -0.85320728]])"
      ]
     },
     "execution_count": 43,
     "metadata": {},
     "output_type": "execute_result"
    }
   ],
   "source": [
    "# Get feature coefficients\n",
    "coefficients"
   ]
  },
  {
   "cell_type": "code",
   "execution_count": 44,
   "id": "f3a25f0a",
   "metadata": {},
   "outputs": [
    {
     "data": {
      "text/plain": [
       "(1, 8)"
      ]
     },
     "execution_count": 44,
     "metadata": {},
     "output_type": "execute_result"
    }
   ],
   "source": [
    "coefficients.shape"
   ]
  },
  {
   "cell_type": "code",
   "execution_count": 45,
   "id": "eadaa5ac",
   "metadata": {},
   "outputs": [],
   "source": [
    "coefficients = coefficients.reshape(8,)"
   ]
  },
  {
   "cell_type": "code",
   "execution_count": 46,
   "id": "fe1a836a",
   "metadata": {},
   "outputs": [
    {
     "data": {
      "text/plain": [
       "(8,)"
      ]
     },
     "execution_count": 46,
     "metadata": {},
     "output_type": "execute_result"
    }
   ],
   "source": [
    "coefficients.shape"
   ]
  },
  {
   "cell_type": "code",
   "execution_count": 47,
   "id": "c57647c8",
   "metadata": {},
   "outputs": [],
   "source": [
    "feature_importances = pd.DataFrame({'variable':X.columns, 'coefficient': coefficients})"
   ]
  },
  {
   "cell_type": "code",
   "execution_count": 48,
   "id": "ba791bc2",
   "metadata": {},
   "outputs": [
    {
     "data": {
      "text/html": [
       "<div>\n",
       "<style scoped>\n",
       "    .dataframe tbody tr th:only-of-type {\n",
       "        vertical-align: middle;\n",
       "    }\n",
       "\n",
       "    .dataframe tbody tr th {\n",
       "        vertical-align: top;\n",
       "    }\n",
       "\n",
       "    .dataframe thead th {\n",
       "        text-align: right;\n",
       "    }\n",
       "</style>\n",
       "<table border=\"1\" class=\"dataframe\">\n",
       "  <thead>\n",
       "    <tr style=\"text-align: right;\">\n",
       "      <th></th>\n",
       "      <th>variable</th>\n",
       "      <th>coefficient</th>\n",
       "    </tr>\n",
       "  </thead>\n",
       "  <tbody>\n",
       "    <tr>\n",
       "      <th>0</th>\n",
       "      <td>customer_lifetime_value</td>\n",
       "      <td>-4.018921</td>\n",
       "    </tr>\n",
       "    <tr>\n",
       "      <th>1</th>\n",
       "      <td>income</td>\n",
       "      <td>-101.709665</td>\n",
       "    </tr>\n",
       "    <tr>\n",
       "      <th>2</th>\n",
       "      <td>monthly_premium_auto</td>\n",
       "      <td>181.594618</td>\n",
       "    </tr>\n",
       "    <tr>\n",
       "      <th>3</th>\n",
       "      <td>months_since_last_claim</td>\n",
       "      <td>-1.357104</td>\n",
       "    </tr>\n",
       "    <tr>\n",
       "      <th>4</th>\n",
       "      <td>months_since_policy_inception</td>\n",
       "      <td>-4.964459</td>\n",
       "    </tr>\n",
       "    <tr>\n",
       "      <th>5</th>\n",
       "      <td>number_of_open_complaints</td>\n",
       "      <td>-2.418512</td>\n",
       "    </tr>\n",
       "    <tr>\n",
       "      <th>6</th>\n",
       "      <td>number_of_policies</td>\n",
       "      <td>0.427420</td>\n",
       "    </tr>\n",
       "    <tr>\n",
       "      <th>7</th>\n",
       "      <td>month</td>\n",
       "      <td>-0.853207</td>\n",
       "    </tr>\n",
       "  </tbody>\n",
       "</table>\n",
       "</div>"
      ],
      "text/plain": [
       "                        variable  coefficient\n",
       "0        customer_lifetime_value    -4.018921\n",
       "1                         income  -101.709665\n",
       "2           monthly_premium_auto   181.594618\n",
       "3        months_since_last_claim    -1.357104\n",
       "4  months_since_policy_inception    -4.964459\n",
       "5      number_of_open_complaints    -2.418512\n",
       "6             number_of_policies     0.427420\n",
       "7                          month    -0.853207"
      ]
     },
     "execution_count": 48,
     "metadata": {},
     "output_type": "execute_result"
    }
   ],
   "source": [
    "feature_importances"
   ]
  },
  {
   "cell_type": "code",
   "execution_count": 49,
   "id": "cbdc6dfd",
   "metadata": {},
   "outputs": [
    {
     "data": {
      "text/plain": [
       "(array([0, 1, 2, 3, 4, 5, 6, 7]),\n",
       " [Text(0, 0, 'customer_lifetime_value'),\n",
       "  Text(1, 0, 'income'),\n",
       "  Text(2, 0, 'monthly_premium_auto'),\n",
       "  Text(3, 0, 'months_since_last_claim'),\n",
       "  Text(4, 0, 'months_since_policy_inception'),\n",
       "  Text(5, 0, 'number_of_open_complaints'),\n",
       "  Text(6, 0, 'number_of_policies'),\n",
       "  Text(7, 0, 'month')])"
      ]
     },
     "execution_count": 49,
     "metadata": {},
     "output_type": "execute_result"
    },
    {
     "data": {
      "image/png": "[encoded data removed]",
      "text/plain": [
       "<Figure size 640x480 with 1 Axes>"
      ]
     },
     "metadata": {},
     "output_type": "display_data"
    }
   ],
   "source": [
    "sns.barplot(x=feature_importances['variable'], y=feature_importances['coefficient'])\n",
    "plt.xticks(rotation=90)"
   ]
  }
 ],
 "metadata": {
  "kernelspec": {
   "display_name": "Python 3 (ipykernel)",
   "language": "python",
   "name": "python3"
  },
  "language_info": {
   "codemirror_mode": {
    "name": "ipython",
    "version": 3
   },
   "file_extension": ".py",
   "mimetype": "text/x-python",
   "name": "python",
   "nbconvert_exporter": "python",
   "pygments_lexer": "ipython3",
   "version": "3.11.5"
  }
 },
 "nbformat": 4,
 "nbformat_minor": 5
}
