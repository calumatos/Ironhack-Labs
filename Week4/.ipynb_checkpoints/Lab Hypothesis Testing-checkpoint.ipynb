{
 "cells": [
  {
   "cell_type": "markdown",
   "id": "d8fd4483",
   "metadata": {},
   "source": [
    "# Lab | Hypothesis Testing\n",
    "\n",
    "## Instructions\n",
    "\n",
    "1. It is assumed that the mean systolic blood pressure is μ = 120 mm Hg. In the Honolulu Heart Study, a sample of n = 100 people had an average systolic blood pressure of 130.1 mm Hg with a standard deviation of 21.21 mm Hg. Is the group significantly different (with respect to systolic blood pressure!) from the regular population?\n",
    "    - Set up the hypothesis test.\n",
    "    - Write down all the steps followed for setting up the test.\n",
    "    - Calculate the test statistic by hand and also code it in Python. It should be 4.76190. What decision can you make based on this calculated value?\n",
    "    \n",
    "Hint: here is the statistic table\n",
    "\n",
    "## Optional\n",
    "\n",
    "    In a packing plant, a machine packs cartons with jars. It is supposed that a new machine will pack faster on the average than the machine currently used. To test that hypothesis, the times it takes each machine to pack ten cartons are recorded. The results, in seconds, are shown in the tables in the file Data/machine.txt. Assume that there is sufficient evidence to conduct the t test, does the data provide sufficient evidence to show if one machine is better than the other.\n",
    "Hint: use two sample t-test\n",
    "\n",
    "    t= (sample_mean(x1) - sample_mean(x2)) / sqrt(square(s1)/n1 + square(s2)/n2 )"
   ]
  },
  {
   "cell_type": "code",
   "execution_count": 1,
   "id": "586efd74",
   "metadata": {},
   "outputs": [],
   "source": [
    "import numpy as np\n",
    "import pandas as pd\n",
    "import scipy.stats as stats\n",
    "import matplotlib.pyplot as plt\n",
    "import seaborn as sns\n",
    "\n",
    "%matplotlib inline"
   ]
  },
  {
   "cell_type": "code",
   "execution_count": 2,
   "id": "06a15f5d",
   "metadata": {},
   "outputs": [],
   "source": [
    "μ = 120 # mm\n",
    "n = 100 # 80 > 30 -> Normal distribution.\n",
    "n_mean = 130.1 # mm Hg \n",
    "std = 21.21 # mm Hg"
   ]
  },
  {
   "cell_type": "code",
   "execution_count": 3,
   "id": "3f2ea23c",
   "metadata": {},
   "outputs": [
    {
     "ename": "SyntaxError",
     "evalue": "illegal target for annotation (2889357898.py, line 6)",
     "output_type": "error",
     "traceback": [
      "\u001b[1;36m  Cell \u001b[1;32mIn[3], line 6\u001b[1;36m\u001b[0m\n\u001b[1;33m    - H0: mu = 120\u001b[0m\n\u001b[1;37m    ^\u001b[0m\n\u001b[1;31mSyntaxError\u001b[0m\u001b[1;31m:\u001b[0m illegal target for annotation\n"
     ]
    }
   ],
   "source": [
    "### Set up the hypothesis test.\n",
    "\n",
    "# Is the group significantly different (with respect to systolic blood pressure!) \n",
    "# from the regular population? \n",
    "\n",
    "- H0: mu = 120\n",
    "- H1: mu != 120"
   ]
  },
  {
   "cell_type": "code",
   "execution_count": 4,
   "id": "7bc20968",
   "metadata": {},
   "outputs": [],
   "source": [
    "## Calculate the test statistic by hand and also code it in Python. "
   ]
  },
  {
   "cell_type": "code",
   "execution_count": 5,
   "id": "f1ef773d",
   "metadata": {},
   "outputs": [
    {
     "name": "stdout",
     "output_type": "stream",
     "text": [
      "The t score of our sample is: 4.76\n"
     ]
    }
   ],
   "source": [
    "# t distribution is a standard t distribution\n",
    "\n",
    "t = (n_mean - μ) / (std / np.sqrt(n))\n",
    "print(\"The t score of our sample is: {:.2f}\".format(t))"
   ]
  },
  {
   "cell_type": "code",
   "execution_count": 6,
   "id": "7a2c5d79",
   "metadata": {},
   "outputs": [
    {
     "name": "stdout",
     "output_type": "stream",
     "text": [
      "The critical value corresponding to a 0.95 area of a normal distribution is: 1.66\n"
     ]
    }
   ],
   "source": [
    "# Now we need to find out for which value on the x axis of a t distribution we get 0.95 of the total area.\n",
    "\n",
    "tc = stats.t.ppf(1-0.05, df = 99) # 0.95 is the confidence level.\n",
    "print(\"The critical value corresponding to a 0.95 area of a normal distribution is: {:.2f}\".format(tc))"
   ]
  },
  {
   "cell_type": "code",
   "execution_count": 7,
   "id": "8d5dc0e7",
   "metadata": {},
   "outputs": [
    {
     "name": "stdout",
     "output_type": "stream",
     "text": [
      "The critical value corresponding to a 0.98 area of a normal distribution is: 2.08\n"
     ]
    }
   ],
   "source": [
    "# Using a higher confindence level. Set it to 98%.\n",
    "\n",
    "tc = stats.t.ppf(0.98, df = 99) \n",
    "print(\"The critical value corresponding to a 0.98 area of a normal distribution is: {:.2f}\".format(tc))"
   ]
  },
  {
   "cell_type": "code",
   "execution_count": 8,
   "id": "2c264f1d",
   "metadata": {},
   "outputs": [
    {
     "name": "stdout",
     "output_type": "stream",
     "text": [
      "The critical value corresponding to a 0.99 area of a normal distribution is: 3.17\n"
     ]
    }
   ],
   "source": [
    "# Set the confidence level to 0.999\n",
    "\n",
    "tc = stats.t.ppf(0.999, df = 99)\n",
    "print(\"The critical value corresponding to a 0.99 area of a normal distribution is: {:.2f}\".format(tc))"
   ]
  },
  {
   "cell_type": "code",
   "execution_count": 9,
   "id": "7801c7cd",
   "metadata": {},
   "outputs": [
    {
     "ename": "SyntaxError",
     "evalue": "invalid syntax. Maybe you meant '==' or ':=' instead of '='? (4038535107.py, line 5)",
     "output_type": "error",
     "traceback": [
      "\u001b[1;36m  Cell \u001b[1;32mIn[9], line 5\u001b[1;36m\u001b[0m\n\u001b[1;33m    t = 4.76 > tc = 1.66\u001b[0m\n\u001b[1;37m    ^\u001b[0m\n\u001b[1;31mSyntaxError\u001b[0m\u001b[1;31m:\u001b[0m invalid syntax. Maybe you meant '==' or ':=' instead of '='?\n"
     ]
    }
   ],
   "source": [
    "### Conclusion:\n",
    "\n",
    "# Let's compare our t-score with the critical value: tc. Are we in the forbiden region?\n",
    "\n",
    "t = 4.76 > tc = 1.66\n",
    "\n",
    "-> We reject the null hypothesis. "
   ]
  },
  {
   "cell_type": "code",
   "execution_count": null,
   "id": "0288dbbf",
   "metadata": {},
   "outputs": [],
   "source": []
  }
 ],
 "metadata": {
  "kernelspec": {
   "display_name": "Python 3 (ipykernel)",
   "language": "python",
   "name": "python3"
  },
  "language_info": {
   "codemirror_mode": {
    "name": "ipython",
    "version": 3
   },
   "file_extension": ".py",
   "mimetype": "text/x-python",
   "name": "python",
   "nbconvert_exporter": "python",
   "pygments_lexer": "ipython3",
   "version": "3.11.5"
  }
 },
 "nbformat": 4,
 "nbformat_minor": 5
}
